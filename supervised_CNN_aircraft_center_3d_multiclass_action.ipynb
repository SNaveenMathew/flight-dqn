{
 "cells": [
  {
   "cell_type": "markdown",
   "metadata": {},
   "source": [
    "# Experiment\n",
    "\n",
    "Objective: Given the space around the controlled aircraft, predict the next action: categorical encoding of (change in speed, change in altitude, *final heading*) between **current time** and the **next known time of aircraft**.\n",
    "\n",
    "Preprocessing: For each unique timestamp, pad last known location of aircraft.\n",
    "\n",
    "Note: Model takes only the space around aircraft into account. It does not consider the absolute ground speed, altitude and heading."
   ]
  },
  {
   "cell_type": "code",
   "execution_count": null,
   "metadata": {},
   "outputs": [],
   "source": [
    "# This code is for supervised learning using previous state to predict current action\n",
    "# Code from gym-flight to be reused as much as possible\n",
    "import tensorflow as tf\n",
    "import sys\n",
    "import os\n",
    "sys.path.append('../gym-flight/')\n",
    "import gym_flight\n",
    "from gym_flight.utils.numpy_util import Sparse3dArray, np_3darray_to_Sparse3dArray\n",
    "import numpy as np\n",
    "import math\n",
    "import pandas as pd\n",
    "import multiprocessing as mp\n",
    "from full3d_util import get_range_df, bind, unlist\n",
    "from multiclass import *\n",
    "from full3d_util import get_action_discrete, get_action_continuous, fix_XY, train_test_split\n",
    "from aircraft_center_3d_util import get_space_around_ac, get_env_action_aircraft, get_X_Y, pad_zeros\n",
    "import pickle\n",
    "\n",
    "splits = mp.cpu_count() - 1"
   ]
  },
  {
   "cell_type": "code",
   "execution_count": null,
   "metadata": {},
   "outputs": [],
   "source": [
    "import logging\n",
    "logging.basicConfig(\n",
    "    filename='log.txt',\n",
    "    level=logging.DEBUG,\n",
    "    format='%(asctime)s.%(msecs)03d %(levelname)s %(module)s - %(funcName)s: %(message)s',\n",
    "    datefmt='%Y-%m-%d %H:%M:%S',\n",
    ")\n",
    "half_x_length = 10\n",
    "half_y_length = 14\n",
    "half_z_length = 24\n",
    "state_dim = [half_x_length, half_y_length, half_z_length]\n",
    "x_length = 100\n",
    "y_length = 100\n",
    "z_length = 100\n",
    "ts_range = 2\n",
    "time_dim = 1\n",
    "state_dim = [2 * half_x_length + 1, 2 * half_y_length + 1, 2 * half_z_length + 1]\n",
    "action_size = 168\n",
    "learning_rate = 0.025\n",
    "flight_data_path = \"../gym-flight/data/processed_jfk.csv\"\n",
    "dtype_dict = {\"id\": str, \"ts\": np.int16, \"lat\": np.float32, \"lon\": np.float32, \"altitude\": np.float32, \"speed\": np.float32, \"x\": np.int16, \"y\": np.int16, \"z\": np.int16, \"is_landing\": np.int8}\n",
    "flight_data = pd.read_csv(flight_data_path, dtype = dtype_dict)"
   ]
  },
  {
   "cell_type": "markdown",
   "metadata": {},
   "source": [
    "## Checking the amount of distance / climb of the aircraft in 1 min (unit time step)\n",
    "\n",
    "Doubling the value of grid because an aircraft may have data from the beginning of the minute whereas the other aircraft may have data from the end of the next minute - time gap is almost 2 mins"
   ]
  },
  {
   "cell_type": "code",
   "execution_count": null,
   "metadata": {},
   "outputs": [],
   "source": [
    "from geopy import distance\n",
    "\n",
    "# Dividing by 2 to make half grid\n",
    "# Dividing by 2 again to indicate that each aircraft in grid can move equal distance\n",
    "\n",
    "# Considering longitudinal direction of 0.5\n",
    "print(distance.distance((40.7, -73.8), (41.7, -73.8))/2/2)\n",
    "# Considering latitudinal direction of 0.7\n",
    "print(distance.distance((40.7, -73.8), (40.7, -72.4))/2/2)\n",
    "# Considering increment in longitude and latitudes\n",
    "print(distance.distance((40.7, -73.8), (41.7, -72.4))/2/2)\n",
    "\n",
    "# 27.75 km / min = 1650+ km / hr > speed of aircraft. So half width of 2 * 0.5 lon, 2 * 0.7 lat looks like a good increment"
   ]
  },
  {
   "cell_type": "markdown",
   "metadata": {},
   "source": [
    "Observations\n",
    "\n",
    "- Unit change in x corresponds to approximately 0.1 change in longitude\n",
    "- Unit change in y corresponds to approximately 0.1 change in latitude\n",
    "- Unit change in z corresponds to approximately 500 ft change in altitude"
   ]
  },
  {
   "cell_type": "code",
   "execution_count": null,
   "metadata": {},
   "outputs": [],
   "source": [
    "shifted = flight_data[[\"id\", \"ts\", \"x\", \"y\", \"z\"]].set_index(['id']).groupby(level=\"id\").shift(1)\n",
    "flight_data['shifted_ts'] = shifted['ts'].reset_index(drop = True)\n",
    "flight_data['shifted_x'] = shifted['x'].reset_index(drop = True)\n",
    "flight_data['shifted_y'] = shifted['y'].reset_index(drop = True)\n",
    "flight_data['shifted_z'] = shifted['z'].reset_index(drop = True)"
   ]
  },
  {
   "cell_type": "code",
   "execution_count": null,
   "metadata": {},
   "outputs": [],
   "source": [
    "ts_1_shift_df = flight_data[flight_data['ts'] - flight_data['shifted_ts'] == 1]\n",
    "(ts_1_shift_df['shifted_z'] - ts_1_shift_df['z']).describe(percentiles = [.01, .1, .25, .5, .75, .9, .99])"
   ]
  },
  {
   "cell_type": "markdown",
   "metadata": {},
   "source": [
    "## Space at a given time\n",
    "\n",
    "The space at a given time (t) is a 100 * 100 * 100 vector. Each cell of the vector represents the number of aircraft at the cell between (t - ts_range) and (t). This padding is done to avoid issues with missing data: therefore the number of unique aircraft-timestamp combinations in the total space will not be less than the number of rows of the raw data. If ts_range = 0, this should give the same number of unique aircraft-timestamp combinations as the number of rows in raw data (this is the desired outcome, not tested)."
   ]
  },
  {
   "cell_type": "code",
   "execution_count": null,
   "metadata": {},
   "outputs": [],
   "source": [
    "def get_range_df_with_params(rng):\n",
    "    return get_range_df(rng, flight_data, x_length, y_length, z_length, ts_range)\n",
    "\n",
    "# Space for a timestamp remains the same. Only the action is continuous\n",
    "if os.path.isfile('ts_full3d_space.bin'):\n",
    "    space_X = pickle.load(open('ts_full3d_space.bin', 'rb'))\n",
    "else:\n",
    "    p = mp.Pool(processes = splits)\n",
    "    # Arranging in reverse order to speed up computation\n",
    "    rng = list(reversed(range(min(flight_data['ts']), max(flight_data['ts']) + 1)))\n",
    "    split_rng = np.array_split(rng, splits)\n",
    "    pool_results = p.map(get_range_df_with_params, split_rng)\n",
    "    p.close()\n",
    "    p.join()\n",
    "    space_X = np.concatenate(pool_results, axis = 0)\n",
    "    space_X = np.flip(space_X, axis = 0)\n",
    "    pickle.dump(space_X, open(\"ts_full3d_space.bin\", \"wb\"))\n"
   ]
  },
  {
   "cell_type": "markdown",
   "metadata": {},
   "source": [
    "## Aircraft centering\n",
    "\n",
    "At each time step, we center around a 'controlled' aircraft (including the padded aircraft for which the previous known location between (t - ts_range) and (t) is used). Space around aircraft is a (2 * half_x_length + 1, 2 * half_y_length + 1, 2 * half_z_length + 1) matrix with each cell representing the number of aircraft around the controlled aircraft at (x_cell - x_controlled, y_cell - y_controlled, z_cell - z_controlled) + (half_x_length, half_y_length, half_z_length). The controlled aircraft position is (half_x_length, half_y_length, half_z_length) for each aircraft-timestamp combination."
   ]
  },
  {
   "cell_type": "code",
   "execution_count": null,
   "metadata": {},
   "outputs": [],
   "source": [
    "# The following code is commented because outcome cannot be defined\n",
    "\n",
    "# ac_ts_df = []\n",
    "# for i in range(len(space_X)):\n",
    "#     print(i)\n",
    "#     ts_mat = space_X[i].toarray()\n",
    "#     values = space_X[i].values\n",
    "#     for aircraft in values:\n",
    "#         # This operation can be reduced if we use numpy\n",
    "#         # Sparse3dArray requires a check whether the key is within the boundary, which makes it slow\n",
    "#         lower_x = aircraft[0] - half_x_length\n",
    "#         upper_x = aircraft[0] + half_x_length + 1\n",
    "#         lower_y = aircraft[1] - half_y_length\n",
    "#         upper_y = aircraft[1] + half_y_length + 1\n",
    "#         lower_z = aircraft[2] - half_z_length\n",
    "#         upper_z = aircraft[2] + half_z_length + 1\n",
    "#         aircraft_space = ts_mat[max(0, lower_x):min(x_length, upper_x), max(0, lower_y):min(y_length, upper_y), max(0, lower_z):min(z_length, upper_z)]\n",
    "#         aircraft_space = pad_zeros(aircraft_space, lower_x, lower_y, lower_z, upper_x, upper_y, upper_z)\n",
    "#         if aircraft_space.shape != tuple(state_dim):\n",
    "#             print(aircraft_space.shape)\n",
    "        \n",
    "#         aircraft_space[half_x_length, half_y_length, half_z_length] = -1\n",
    "#         ac_ts_df.append(np_3darray_to_Sparse3dArray(aircraft_space))\n",
    "\n"
   ]
  },
  {
   "cell_type": "code",
   "execution_count": null,
   "metadata": {},
   "outputs": [],
   "source": [
    "uniq_id = flight_data['id'].unique()"
   ]
  },
  {
   "cell_type": "code",
   "execution_count": null,
   "metadata": {},
   "outputs": [],
   "source": [
    "if os.path.isfile(\"Y_test_aircraft_center_space_multiclass_action.bin\"):\n",
    "    X_train = pickle.load(open(\"X_train_aircraft_center_space_multiclass_action.bin\", \"rb\"))\n",
    "    Y_train = pickle.load(open(\"Y_train_aircraft_center_space_multiclass_action.bin\", \"rb\"))\n",
    "    X_test = pickle.load(open(\"X_test_aircraft_center_space_multiclass_action.bin\", \"rb\"))\n",
    "    Y_test = pickle.load(open(\"Y_test_aircraft_center_space_multiclass_action.bin\", \"rb\"))\n",
    "else:\n",
    "    XY = get_X_Y(uniq_id, space_X, half_x_length, half_y_length, half_z_length, x_length, y_length, z_length, discrete_action = True)\n",
    "    X, Y = fix_XY(XY)\n",
    "    X_train, Y_train, X_test, Y_test = train_test_split(X, Y)\n",
    "    pickle.dump(X_train, open(\"X_train_aircraft_center_space_multiclass_action.bin\", \"wb\"))\n",
    "    pickle.dump(Y_train, open(\"Y_train_aircraft_center_space_multiclass_action.bin\", \"wb\"))\n",
    "    pickle.dump(X_test, open(\"X_test_aircraft_center_space_multiclass_action.bin\", \"wb\"))\n",
    "    pickle.dump(Y_test, open(\"Y_test_aircraft_center_space_multiclass_action.bin\", \"wb\"))\n",
    "\n",
    "train_ac_index = [len(X[0]) for X in X_train]\n",
    "test_ac_index = [len(X[0]) for X in X_test]\n",
    "X_train = unlist(unlist(X_train))\n",
    "Y_train = bind(unlist(Y_train))\n",
    "Y_train = Y_train.astype(np.int16)\n",
    "X_test = unlist(unlist(X_test))\n",
    "Y_test = bind(unlist(Y_test))\n",
    "Y_test = Y_test.astype(np.int16)"
   ]
  },
  {
   "cell_type": "markdown",
   "metadata": {},
   "source": [
    "# Model\n",
    "## Initialization"
   ]
  },
  {
   "cell_type": "code",
   "execution_count": null,
   "metadata": {},
   "outputs": [],
   "source": [
    "state_dim = [x_length, y_length, z_length]\n",
    "cnn = CNN_multiclass(state_dim, action_size, learning_rate)"
   ]
  },
  {
   "cell_type": "code",
   "execution_count": null,
   "metadata": {},
   "outputs": [],
   "source": [
    "# len(ac_ts_df)"
   ]
  },
  {
   "cell_type": "markdown",
   "metadata": {},
   "source": [
    "### Train-test split"
   ]
  },
  {
   "cell_type": "code",
   "execution_count": null,
   "metadata": {},
   "outputs": [],
   "source": [
    "# X_train = "
   ]
  },
  {
   "cell_type": "markdown",
   "metadata": {},
   "source": [
    "# Section on using the CNN class and data for training, prediction and evaluation"
   ]
  },
  {
   "cell_type": "code",
   "execution_count": null,
   "metadata": {},
   "outputs": [],
   "source": [
    "saver = tf.train.Saver()\n",
    "perc = 0\n",
    "epochs = 1\n",
    "batch_size = 128\n",
    "num_batches = len(X_train)//batch_size"
   ]
  },
  {
   "cell_type": "code",
   "execution_count": null,
   "metadata": {},
   "outputs": [],
   "source": [
    "completed = 0\n",
    "epoch_train_losses = []\n",
    "epoch_test_losses = []\n",
    "ended = False\n",
    "epoch = 0\n",
    "sess = tf.Session()\n",
    "# Initialize variables\n",
    "sess.run(tf.global_variables_initializer())\n",
    "while (epoch < epochs) and not(ended):\n",
    "    completed = int(epoch * 100/epochs)\n",
    "    if completed >= perc:\n",
    "        logging.info(str(perc) + \" % completed\")\n",
    "        perc = int(epoch * 100/epochs)\n",
    "\n",
    "    batch_completed = 0\n",
    "    mini_batch = 1\n",
    "    mini_batch_train_losses = []\n",
    "    mini_batch_test_losses = []\n",
    "    while batch_completed < (len(X_train) - batch_size):\n",
    "        train_X = X_train[batch_completed:(batch_completed + batch_size)]\n",
    "        train_Y = Y_train[batch_completed:(batch_completed + batch_size)]\n",
    "        loss = train(sess, cnn, train_X, train_Y)\n",
    "        # Runs out of memory while evaluating on the complete test set. Only batch_size used for evaluating\n",
    "        # This step should be randomized\n",
    "        test_loss = get_loss(sess, cnn, X_test[0:batch_size], Y_test[0:batch_size])\n",
    "        print('Epoch: {}/{}: '.format(epoch+1, epochs), 'mini-batch {}/{}: '.format(mini_batch, num_batches), \"Train loss: {} \".format(loss), \"Test loss: {} \".format(test_loss))\n",
    "        batch_completed += batch_size\n",
    "        mini_batch += 1\n",
    "        mini_batch_train_losses.append(loss)\n",
    "        mini_batch_test_losses.append(test_loss)\n",
    "    epoch_train_losses.append(sum(mini_batch_train_losses)/len(mini_batch_train_losses))\n",
    "    epoch_test_losses.append(sum(mini_batch_test_losses)/len(mini_batch_test_losses))\n",
    "    # Early stopping check (callback should be used instead):\n",
    "    if (epoch > 0) and (epoch_test_losses[epoch] > epoch_test_losses[epoch - 1]):\n",
    "        saver.save(sess, \"aircraft_center_multiclass\")\n",
    "        ended = True\n",
    "\n",
    "    epoch += 1"
   ]
  },
  {
   "cell_type": "code",
   "execution_count": null,
   "metadata": {},
   "outputs": [],
   "source": []
  }
 ],
 "metadata": {
  "kernelspec": {
   "display_name": "tensorflow",
   "language": "python",
   "name": "tf"
  },
  "language_info": {
   "codemirror_mode": {
    "name": "ipython",
    "version": 3
   },
   "file_extension": ".py",
   "mimetype": "text/x-python",
   "name": "python",
   "nbconvert_exporter": "python",
   "pygments_lexer": "ipython3",
   "version": "3.7.3"
  }
 },
 "nbformat": 4,
 "nbformat_minor": 2
}
