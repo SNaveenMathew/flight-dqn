{
 "cells": [
  {
   "cell_type": "code",
   "execution_count": 1,
   "metadata": {},
   "outputs": [],
   "source": [
    "import tensorflow as tf\n",
    "import pandas as pd\n",
    "import numpy as np\n",
    "import os\n",
    "import pickle\n",
    "import math\n",
    "import sys\n",
    "sys.path.append('../gym-flight/')\n",
    "import gym_flight\n",
    "from gym_flight.utils.geo import destination\n",
    "from util import *\n",
    "import multiprocessing as mp\n",
    "splits = mp.cpu_count() - 1\n",
    "import matplotlib.pyplot as plt\n",
    "from full3d_util import get_range_df, bind, unlist\n",
    "from aircraft_center_3d_util import train_test_split, fix_XY"
   ]
  },
  {
   "cell_type": "code",
   "execution_count": 2,
   "metadata": {},
   "outputs": [],
   "source": [
    "half_x_length = 5\n",
    "half_y_length = 7\n",
    "half_z_length = 12\n",
    "n_mins = 5"
   ]
  },
  {
   "cell_type": "markdown",
   "metadata": {},
   "source": [
    "# Preprocessing flight data"
   ]
  },
  {
   "cell_type": "code",
   "execution_count": 3,
   "metadata": {},
   "outputs": [],
   "source": [
    "if os.path.isfile(\"processed_flight_data_\" + str(n_mins) + \"mins.bin\"):\n",
    "    flight_data = pickle.load(open(\"processed_flight_data_\" + str(n_mins) + \"mins.bin\", \"rb\"))\n",
    "else:\n",
    "    if os.path.isfile(\"raw_flight_data_\" + str(n_mins) + \"mins.bin\"):\n",
    "        flight_data = pickle.load(open(\"raw_flight_data_\" + str(n_mins) + \"mins.bin\", \"rb\"))\n",
    "    else:\n",
    "        flight_data_path = \"../../samples_with_jfk_landing_flag.csv\"\n",
    "        dtype_dict = {\"id\": str, \"ts\": np.int64, \"lat\": np.float32, \"lon\": np.float32, \"altitude\": np.float32, \"speed\": np.float32, \"jfk_landing_flag\": bool}\n",
    "        flight_data = pd.read_csv(flight_data_path, dtype = dtype_dict)\n",
    "        flight_data = flight_data.sort_values(by = ['id', 'ts']).reset_index(drop = True)\n",
    "\n",
    "        # Creating 5 min intervals\n",
    "        temp_ts = flight_data['ts']\n",
    "        temp_ts = temp_ts - temp_ts.apply(lambda x: x % (n_mins * 60))\n",
    "        flight_data['round_min_ts'] = pd.to_datetime(temp_ts, unit = 's')\n",
    "        flight_data['raw_ts'] = pd.to_datetime(flight_data['ts'], unit = 's')\n",
    "        flight_data['prev_ts'] = flight_data[['id', 'raw_ts']].set_index(['id']).groupby(level=\"id\").shift(1).reset_index(drop = True)\n",
    "        flight_data['prev_time_diff_s'] = flight_data['raw_ts'] - flight_data['prev_ts']\n",
    "        flight_data['prev_time_diff_s'] = flight_data['prev_time_diff_s'].apply(lambda x: x.delta if type(x) != pd._libs.tslibs.nattype.NaTType else 0)/1000000000\n",
    "        flight_data['time_diff'] = flight_data['raw_ts'] - flight_data['round_min_ts']\n",
    "        flight_data['time_diff_s'] = flight_data['time_diff'].apply(lambda x: x.delta)/1000000000\n",
    "        flight_data['ground_distance'] = flight_data['time_diff_s'] * flight_data['ground_speed'] * 4.63/9\n",
    "\n",
    "        # Extrapolating (backwards in time) using the first known speed, heading at a given minute\n",
    "        flight_data['period_start_lat_lon'] = flight_data.apply(lambda row: destination(row['lat'], row['lon'], row['azimuth'], -row['ground_distance']), axis = 1)\n",
    "        flight_data['period_start_lat'] = flight_data['period_start_lat_lon'].apply(lambda x: x[0])\n",
    "        flight_data['period_start_lon'] = flight_data['period_start_lat_lon'].apply(lambda x: x[1])\n",
    "        pickle.dump(flight_data, open(\"raw_flight_data_\" + str(n_mins) + \"mins.bin\", \"wb\"))\n",
    "    \n",
    "    flight_data = flight_data.sort_values(by = ['id', 'round_min_ts']).reset_index(drop = False)\n",
    "    flight_data = flight_data.drop_duplicates(subset = ['id', 'round_min_ts'], keep = 'first')\n",
    "    flight_data = flight_data.reset_index(drop = True)\n",
    "    flight_data['next_round_min_ts'] = flight_data[['id', 'round_min_ts']].set_index(['id']).groupby(level=\"id\").shift(-1).reset_index(drop = True)\n",
    "    flight_data1 = get_timestamps_df_mp(flight_data, n_min = n_mins)\n",
    "    flight_data1.columns = ['round_min_ts', 'id']\n",
    "    flight_data = pd.merge(flight_data, flight_data1, how = 'outer')\n",
    "    flight_data = flight_data.sort_values(by = ['id', 'round_min_ts']).reset_index(drop = True)\n",
    "    flight_data = flight_data.drop(['index'], axis = 1)\n",
    "    flight_data = flight_data[['id', 'round_min_ts', 'ground_speed', 'altitude', 'azimuth', 'period_start_lat', 'period_start_lon', 'jfk_landing_flag']]\n",
    "    flight_data.columns = ['id', 'ts', 'ground_speed', 'altitude', 'azimuth', 'lat', 'lon', 'jfk_landing_flag']\n",
    "    speeds = flight_data['ground_speed'].tolist()\n",
    "    alts = flight_data['altitude'].tolist()\n",
    "    azis = flight_data['azimuth'].tolist()\n",
    "    lats = flight_data['lat'].tolist()\n",
    "    lons = flight_data['lon'].tolist()\n",
    "    landings = flight_data['jfk_landing_flag'].tolist()\n",
    "\n",
    "    for i in range(len(speeds)):\n",
    "        if np.isnan(speeds[i]):\n",
    "            speeds[i] = speeds[i-1]\n",
    "            alts[i] = alts[i-1]\n",
    "            azis[i] = azis[i-1]\n",
    "            dist = speeds[i] * 60 * 4.63 / 9\n",
    "            lat_lon = destination(lats[i-1], lons[i-1], azis[i-1], dist)\n",
    "            lats[i] = lat_lon[0]\n",
    "            lons[i] = lat_lon[1]\n",
    "            landings[i] = landings[i - 1]\n",
    "\n",
    "    flight_data['ground_speed'] = speeds\n",
    "    flight_data['altitude'] = alts\n",
    "    flight_data['azimuth'] = azis\n",
    "    flight_data['lon'] = lons\n",
    "    flight_data['lat'] = lats\n",
    "    flight_data['jfk_landing_flag'] = landings\n",
    "    shifted = flight_data.drop('ts', axis = 1).set_index('id').groupby(level = 'id').shift(-1).reset_index(drop = True)\n",
    "    shifted.columns = ['next_' + col for col in shifted.columns]\n",
    "    flight_data = pd.concat([flight_data, shifted], axis = 1)\n",
    "    flight_data['d_speed'] = flight_data['next_ground_speed'] - flight_data['ground_speed']\n",
    "    flight_data['d_altitude'] = flight_data['next_altitude'] - flight_data['altitude']\n",
    "    flight_data['d_azimuth'] = flight_data['next_azimuth'] - flight_data['azimuth']\n",
    "    pickle.dump(flight_data, open(\"processed_flight_data_\" + str(n_mins) + \"mins.bin\", \"wb\"))"
   ]
  },
  {
   "cell_type": "code",
   "execution_count": 4,
   "metadata": {},
   "outputs": [
    {
     "data": {
      "text/plain": [
       "(481777, 17)"
      ]
     },
     "execution_count": 4,
     "metadata": {},
     "output_type": "execute_result"
    }
   ],
   "source": [
    "flight_data.shape"
   ]
  },
  {
   "cell_type": "code",
   "execution_count": 5,
   "metadata": {},
   "outputs": [],
   "source": [
    "flight_data = remove_aircraft_with_anomalous_data(flight_data, speed_at_ground_altitude = True, estimated_speed = False, ground_speed = True, altitude = True)"
   ]
  },
  {
   "cell_type": "code",
   "execution_count": 6,
   "metadata": {},
   "outputs": [
    {
     "data": {
      "text/plain": [
       "(419557, 20)"
      ]
     },
     "execution_count": 6,
     "metadata": {},
     "output_type": "execute_result"
    }
   ],
   "source": [
    "flight_data.shape"
   ]
  },
  {
   "cell_type": "code",
   "execution_count": 7,
   "metadata": {},
   "outputs": [],
   "source": [
    "flight_data['altitude'] = flight_data['altitude'].clip(lower = 0)"
   ]
  },
  {
   "cell_type": "markdown",
   "metadata": {},
   "source": [
    "# Discretizing\n",
    "## Discretizing space"
   ]
  },
  {
   "cell_type": "code",
   "execution_count": 8,
   "metadata": {},
   "outputs": [
    {
     "name": "stdout",
     "output_type": "stream",
     "text": [
      "-78.87347241572982\n",
      "-67.31925653988675\n",
      "34.38859180242261\n",
      "45.583525215870615\n"
     ]
    }
   ],
   "source": [
    "lon_min = flight_data['lon'].min()\n",
    "lon_max = flight_data['lon'].max()\n",
    "lat_min = flight_data['lat'].min()\n",
    "lat_max = flight_data['lat'].max()\n",
    "print(lon_min)\n",
    "print(lon_max)\n",
    "print(lat_min)\n",
    "print(lat_max)"
   ]
  },
  {
   "cell_type": "code",
   "execution_count": 9,
   "metadata": {},
   "outputs": [
    {
     "name": "stdout",
     "output_type": "stream",
     "text": [
      "-78.0\n",
      "-68.0\n",
      "35.0\n",
      "45.0\n"
     ]
    }
   ],
   "source": [
    "flight_data['lat'] = flight_data['lat'].clip(lower = 35)\n",
    "flight_data['lat'] = flight_data['lat'].clip(upper = 45)\n",
    "flight_data['lon'] = flight_data['lon'].clip(lower = -78)\n",
    "flight_data['lon'] = flight_data['lon'].clip(upper = -68)\n",
    "lon_min = flight_data['lon'].min()\n",
    "lon_max = flight_data['lon'].max()\n",
    "lat_min = flight_data['lat'].min()\n",
    "lat_max = flight_data['lat'].max()\n",
    "print(lon_min)\n",
    "print(lon_max)\n",
    "print(lat_min)\n",
    "print(lat_max)"
   ]
  },
  {
   "cell_type": "code",
   "execution_count": 10,
   "metadata": {},
   "outputs": [],
   "source": [
    "x_length = 100\n",
    "y_length = 100\n",
    "z_length = 100\n",
    "alt_bucket_range = 500 # One bucket every 500 ft\n",
    "\n",
    "# Matching the schema with the previous preprocessed data - for reusability\n",
    "flight_data['x'] = (x_length * (flight_data['lat'] - lat_min - 0.0001)/(lat_max - lat_min)).apply(math.ceil)\n",
    "flight_data['y'] = (y_length * (flight_data['lon'] - lon_min - 0.0001)/(lon_max - lon_min)).apply(math.ceil)\n",
    "flight_data['z'] = (flight_data['altitude']/alt_bucket_range).apply(math.floor)\n",
    "flight_data['x'] = flight_data['x'].clip(upper = x_length - 1)\n",
    "flight_data['y'] = flight_data['y'].clip(upper = y_length - 1)\n",
    "flight_data['z'] = flight_data['z'].clip(upper = z_length - 1)"
   ]
  },
  {
   "cell_type": "markdown",
   "metadata": {},
   "source": [
    "## Discretizing time"
   ]
  },
  {
   "cell_type": "code",
   "execution_count": 11,
   "metadata": {},
   "outputs": [],
   "source": [
    "x = ((flight_data['ts'] - flight_data['ts'].min()).apply(lambda x: x.delta/1000000000)/(60 * n_mins)).apply(math.floor)\n",
    "flight_data['ts'] = x"
   ]
  },
  {
   "cell_type": "code",
   "execution_count": 12,
   "metadata": {},
   "outputs": [
    {
     "name": "stdout",
     "output_type": "stream",
     "text": [
      "0\n",
      "990\n"
     ]
    }
   ],
   "source": [
    "print(flight_data['ts'].min())\n",
    "print(flight_data['ts'].max())"
   ]
  },
  {
   "cell_type": "markdown",
   "metadata": {},
   "source": [
    "# Code to extract features for landing aircraft"
   ]
  },
  {
   "cell_type": "code",
   "execution_count": 13,
   "metadata": {},
   "outputs": [],
   "source": [
    "def get_X_Y_mp(uniq_ts):\n",
    "        return get_X_Y(flight_data, uniq_ts)\n",
    "\n",
    "\n",
    "def get_X_Y(flight_data, uniq_ts, include_controlled_ac = True):\n",
    "    X = {}\n",
    "    Y = {}\n",
    "    for k, ts in enumerate(uniq_ts):\n",
    "        ts_df = flight_data[flight_data['ts'] == ts]\n",
    "        landing_df = ts_df[ts_df['jfk_landing_flag']]\n",
    "        landing_idx = np.where(ts_df['jfk_landing_flag'])[0]\n",
    "        if landing_df.shape[0] > 0:\n",
    "            for i in range(landing_df.shape[0]):\n",
    "                controlled_ac_row = landing_df.iloc[i]\n",
    "                controlled_ac_df = np.zeros(tuple(state_dim) + (2, ))\n",
    "                aircraft_x = controlled_ac_row['x']\n",
    "                aircraft_y = controlled_ac_row['y']\n",
    "                aircraft_z = controlled_ac_row['z']\n",
    "                lower_x = aircraft_x - half_x_length\n",
    "                upper_x = aircraft_x + half_x_length\n",
    "                lower_y = aircraft_y - half_y_length\n",
    "                upper_y = aircraft_y + half_y_length\n",
    "                lower_z = aircraft_z - half_z_length\n",
    "                upper_z = aircraft_z + half_z_length\n",
    "                for j in range(ts_df.shape[0]):\n",
    "                    if j != landing_idx[i]:\n",
    "                        other_ac_x = ts_df['x'].iloc[j]\n",
    "                        other_ac_y = ts_df['y'].iloc[j]\n",
    "                        other_ac_z = ts_df['z'].iloc[j]\n",
    "                        if other_ac_x >= lower_x and other_ac_x <= upper_x and other_ac_y >= lower_y and other_ac_y <= upper_y and other_ac_z >= lower_z and other_ac_z <= upper_z:\n",
    "                            controlled_ac_df[other_ac_x - lower_x, other_ac_y - lower_y, other_ac_z - lower_z, :] = [ts_df['ground_speed'].iloc[j], ts_df['azimuth'].iloc[j]]\n",
    "\n",
    "                if include_controlled_ac:\n",
    "                    controlled_ac_df[half_x_length, half_y_length, half_z_length, :] = [controlled_ac_row['ground_speed'], controlled_ac_row['azimuth']]\n",
    "\n",
    "                X[(ts, controlled_ac_row['id'])] = controlled_ac_df\n",
    "                Y[(ts, controlled_ac_row['id'])] = np.array([controlled_ac_row['next_ground_speed'] - controlled_ac_row['ground_speed'], controlled_ac_row['next_altitude'] - controlled_ac_row['altitude'], controlled_ac_row['next_azimuth'] - controlled_ac_row['azimuth']])\n",
    "    \n",
    "    return X, Y\n",
    "\n",
    "\n",
    "\n",
    "if os.path.isfile(\"Y_train_aircraft_center_space_continuous_action_\" + str(n_mins) + \"min.npy\"):\n",
    "    X_train = np.load(\"X_train_aircraft_center_space_multiclass_action_\" + str(n_mins) + \"min.npy\")\n",
    "    Y_train = np.load(\"Y_train_aircraft_center_space_continuous_action_\" + str(n_mins) + \"min.npy\")\n",
    "    X_test = np.load(\"X_test_aircraft_center_space_multiclass_action_\" + str(n_mins) + \"min.npy\")\n",
    "    Y_test = np.load(\"Y_test_aircraft_center_space_continuous_action_\" + str(n_mins) + \"min.npy\")\n",
    "    y_min = np.load(\"y_min_\" + str(n_mins) + \"min.npy\")\n",
    "    y_max = np.load(\"y_max_\" + str(n_mins) + \"min.npy\")\n",
    "else:\n",
    "    uniq_ts = flight_data['ts'].unique()\n",
    "    uniq_ts.sort()\n",
    "    state_dim = [2 * half_x_length + 1, 2 * half_y_length + 1, 2 * half_z_length + 1]\n",
    "    p = mp.Pool(processes = splits)\n",
    "    \n",
    "    # Arranging in reverse order to speed up computation\n",
    "    rng = list(uniq_ts)\n",
    "    # Multiprocessing the generation of examples from raw data\n",
    "    split_rng = np.array_split(rng, splits)\n",
    "    pool_results = p.map(get_X_Y_mp, split_rng)\n",
    "    p.close()\n",
    "    p.join()\n",
    "    XY = np.concatenate(pool_results, axis = 0)\n",
    "    \n",
    "    # Arranging X and Y\n",
    "    X = [XY[i] for i in range(len(XY)) if i % 2 == 0]\n",
    "    Y = [XY[i] for i in range(len(XY)) if i % 2 == 1]\n",
    "    X = [np.array([item.reshape(8250) for item in list(x.values())]) for x in X]\n",
    "    Y = [np.array(list(y.values())) for y in Y]\n",
    "    X = np.concatenate(X, axis = 0)\n",
    "    Y = np.concatenate(Y, axis = 0)\n",
    "    X_train, Y_train, X_test, Y_test = train_test_split(X, Y)\n",
    "    \n",
    "    # Removing rows with nan values\n",
    "    Y_train_nan = np.isnan(Y_train[:,0])\n",
    "    Y_train = Y_train[~Y_train_nan, :]\n",
    "    X_train = X_train[~Y_train_nan, :]\n",
    "    Y_test_nan = np.isnan(Y_test[:,0])\n",
    "    Y_test = Y_test[~Y_test_nan, :]\n",
    "    X_test = X_test[~Y_test_nan, :]\n",
    "    \n",
    "    # Normalizing output\n",
    "    y_train_min = np.min(Y_train, axis = 0)\n",
    "    y_train_max = np.max(Y_train, axis = 0)\n",
    "    y_test_min = np.min(Y_test, axis = 0)\n",
    "    y_test_max = np.max(Y_test, axis = 0)\n",
    "\n",
    "    y_min = np.array([min(y_train_min[i], y_test_min[i]) for i in range(3)])\n",
    "    y_max = np.array([max(y_train_max[i], y_test_max[i]) for i in range(3)])\n",
    "\n",
    "    Y_train = (Y_train - y_min)/(y_max - y_min)\n",
    "    Y_test = (Y_test - y_min)/(y_max - y_min)\n",
    "    \n",
    "    # Saving\n",
    "    np.save(\"X_train_aircraft_center_space_multiclass_action_\" + str(n_mins) + \"min\", X_train)\n",
    "    np.save(\"Y_train_aircraft_center_space_continuous_action_\" + str(n_mins) + \"min\", Y_train)\n",
    "    np.save(\"X_test_aircraft_center_space_multiclass_action_\" + str(n_mins) + \"min\", X_test)\n",
    "    np.save(\"Y_test_aircraft_center_space_continuous_action_\" + str(n_mins) + \"min\", Y_test)\n",
    "    np.save(\"y_min_\" + str(n_mins) + \"min\", y_min)\n",
    "    np.save(\"y_max_\" + str(n_mins) + \"min\", y_max)"
   ]
  },
  {
   "cell_type": "markdown",
   "metadata": {},
   "source": [
    "# Modeling"
   ]
  },
  {
   "cell_type": "code",
   "execution_count": 14,
   "metadata": {},
   "outputs": [],
   "source": [
    "class MLP_continuous:\n",
    "    def __init__(self, state_dim, learning_rate):\n",
    "        self.target_ = tf.placeholder(tf.float32, [None, 3], name='target')\n",
    "        self.state_ = tf.placeholder(tf.float32, [None, state_dim], name='state')\n",
    "        self.learning_rate = learning_rate\n",
    "        \n",
    "        # fc1: (, 1024)\n",
    "        self.fc1 = tf.layers.dense(self.state_, 1024, activation=tf.nn.sigmoid, name='fc1')\n",
    "        \n",
    "        # Fc2 (b, 128) - may be bottleneck layer\n",
    "        self.fc2 = tf.layers.dense(self.fc1, 128, activation=tf.nn.sigmoid, name='fc2')\n",
    "        \n",
    "        # Split into 3 linear output units for:\n",
    "        # - change in speed\n",
    "        # - change in altitude\n",
    "        # - change in heading\n",
    "        # This should probably be changed to separate dense 'heads' that connect to individual outputs\n",
    "        # If we maintain different dense heads, if one output is noisy, then the weights of that dense head will be random (with the hope that weights of other heads are not affected)\n",
    "        self.fc3_d_speed = tf.layers.dense(self.fc2, 32, activation=tf.nn.sigmoid, name='fc3_d_speed')\n",
    "        self.fc3_d_altitude = tf.layers.dense(self.fc2, 32, activation=tf.nn.sigmoid, name='fc3_d_altitude')\n",
    "        self.fc3_d_azimuth = tf.layers.dense(self.fc2, 32, activation=tf.nn.sigmoid, name='fc3_d_azimuth')\n",
    "        self.output_d_speed = tf.layers.dense(self.fc3_d_speed, 1, name = 'output_d_speed')\n",
    "        self.output_d_altitude = tf.layers.dense(self.fc3_d_altitude, 1, name = 'output_d_altitude')\n",
    "        self.output_d_azimuth = tf.layers.dense(self.fc3_d_azimuth, 1, name = 'output_d_azimuth')\n",
    "        self.output = tf.concat([self.output_d_speed, self.output_d_altitude, self.output_d_azimuth], 1)\n",
    "        \n",
    "        self.loss = tf.reduce_mean(tf.reduce_sum(tf.square(self.target_ - self.output), axis = 1))\n",
    "        \n",
    "        # Optimizer: Adam\n",
    "        self.optimizer = tf.train.AdamOptimizer(self.learning_rate)\n",
    "        \n",
    "        # Train Op\n",
    "        self.train = self.optimizer.minimize(self.loss)\n",
    "\n",
    "\n",
    "\n",
    "\n",
    "# Function for training the network\n",
    "def train(sess, mlp, state, action):\n",
    "    feed_dict = {mlp.state_: state, mlp.target_: action}\n",
    "    loss, _ = sess.run([mlp.loss, mlp.train], feed_dict=feed_dict)\n",
    "    return loss\n",
    "\n",
    "\n",
    "def get_predicted_action(sess, mlp, state):\n",
    "    output = sess.run(mlp.output, feed_dict={mlp.state_: state})\n",
    "    return output\n",
    "\n",
    "\n",
    "\n",
    "def get_loss(sess, mlp, state, action):\n",
    "    output = sess.run(mlp.loss, feed_dict={mlp.state_: state, mlp.target_: action})\n",
    "    return output"
   ]
  },
  {
   "cell_type": "code",
   "execution_count": 15,
   "metadata": {},
   "outputs": [
    {
     "name": "stdout",
     "output_type": "stream",
     "text": [
      "WARNING:tensorflow:From <ipython-input-14-788d050fecdd>:8: dense (from tensorflow.python.layers.core) is deprecated and will be removed in a future version.\n",
      "Instructions for updating:\n",
      "Use keras.layers.dense instead.\n",
      "WARNING:tensorflow:From /home/atc/anaconda3/envs/tf/lib/python3.7/site-packages/tensorflow/python/framework/op_def_library.py:263: colocate_with (from tensorflow.python.framework.ops) is deprecated and will be removed in a future version.\n",
      "Instructions for updating:\n",
      "Colocations handled automatically by placer.\n",
      "WARNING:tensorflow:From /home/atc/anaconda3/envs/tf/lib/python3.7/site-packages/tensorflow/python/ops/math_ops.py:3066: to_int32 (from tensorflow.python.ops.math_ops) is deprecated and will be removed in a future version.\n",
      "Instructions for updating:\n",
      "Use tf.cast instead.\n"
     ]
    }
   ],
   "source": [
    "state_dim = 2 * (2 * half_x_length + 1) * (2 * half_y_length + 1) * (2 * half_z_length + 1)\n",
    "learning_rate = 0.025\n",
    "mlp = MLP_continuous(state_dim, learning_rate)"
   ]
  },
  {
   "cell_type": "code",
   "execution_count": 16,
   "metadata": {},
   "outputs": [],
   "source": [
    "saver = tf.train.Saver()\n",
    "perc = 0\n",
    "epochs = 1\n",
    "batch_size = 128\n",
    "num_batches = len(X_train)//batch_size"
   ]
  },
  {
   "cell_type": "code",
   "execution_count": 17,
   "metadata": {},
   "outputs": [
    {
     "name": "stdout",
     "output_type": "stream",
     "text": [
      "0 % completed\n",
      "Epoch: 1/1:  mini-batch 1/73:  Train loss: 2.313988447189331  Test loss: 16.890539169311523 \n",
      "Epoch: 1/1:  mini-batch 2/73:  Train loss: 16.700807571411133  Test loss: 6.382521152496338 \n",
      "Epoch: 1/1:  mini-batch 3/73:  Train loss: 6.367712020874023  Test loss: 2.289750814437866 \n",
      "Epoch: 1/1:  mini-batch 4/73:  Train loss: 2.299551248550415  Test loss: 3.7929439544677734 \n",
      "Epoch: 1/1:  mini-batch 5/73:  Train loss: 3.7767913341522217  Test loss: 3.095093011856079 \n",
      "Epoch: 1/1:  mini-batch 6/73:  Train loss: 3.0688419342041016  Test loss: 1.7262535095214844 \n",
      "Epoch: 1/1:  mini-batch 7/73:  Train loss: 1.7400171756744385  Test loss: 0.9109218120574951 \n",
      "Epoch: 1/1:  mini-batch 8/73:  Train loss: 0.9042240381240845  Test loss: 0.5264616012573242 \n",
      "Epoch: 1/1:  mini-batch 9/73:  Train loss: 0.5425676107406616  Test loss: 0.3250466585159302 \n",
      "Epoch: 1/1:  mini-batch 10/73:  Train loss: 0.317410945892334  Test loss: 0.2386154681444168 \n",
      "Epoch: 1/1:  mini-batch 11/73:  Train loss: 0.24824589490890503  Test loss: 0.22853654623031616 \n",
      "Epoch: 1/1:  mini-batch 12/73:  Train loss: 0.223133385181427  Test loss: 0.25461530685424805 \n",
      "Epoch: 1/1:  mini-batch 13/73:  Train loss: 0.26628512144088745  Test loss: 0.2839227020740509 \n",
      "Epoch: 1/1:  mini-batch 14/73:  Train loss: 0.29441356658935547  Test loss: 0.29686397314071655 \n",
      "Epoch: 1/1:  mini-batch 15/73:  Train loss: 0.32127222418785095  Test loss: 0.2864746153354645 \n",
      "Epoch: 1/1:  mini-batch 16/73:  Train loss: 0.2895177900791168  Test loss: 0.2572788596153259 \n",
      "Epoch: 1/1:  mini-batch 17/73:  Train loss: 0.2389291524887085  Test loss: 0.21645678579807281 \n",
      "Epoch: 1/1:  mini-batch 18/73:  Train loss: 0.22947433590888977  Test loss: 0.16954760253429413 \n",
      "Epoch: 1/1:  mini-batch 19/73:  Train loss: 0.17648498713970184  Test loss: 0.12564188241958618 \n",
      "Epoch: 1/1:  mini-batch 20/73:  Train loss: 0.11669951677322388  Test loss: 0.09242699295282364 \n",
      "Epoch: 1/1:  mini-batch 21/73:  Train loss: 0.10197966545820236  Test loss: 0.07353349775075912 \n",
      "Epoch: 1/1:  mini-batch 22/73:  Train loss: 0.08221614360809326  Test loss: 0.0700688511133194 \n",
      "Epoch: 1/1:  mini-batch 23/73:  Train loss: 0.06993754208087921  Test loss: 0.07975955307483673 \n",
      "Epoch: 1/1:  mini-batch 24/73:  Train loss: 0.08299149572849274  Test loss: 0.09646887332201004 \n",
      "Epoch: 1/1:  mini-batch 25/73:  Train loss: 0.10411364585161209  Test loss: 0.11299868673086166 \n",
      "Epoch: 1/1:  mini-batch 26/73:  Train loss: 0.11340693384408951  Test loss: 0.1233481615781784 \n",
      "Epoch: 1/1:  mini-batch 27/73:  Train loss: 0.14010202884674072  Test loss: 0.12378120422363281 \n",
      "Epoch: 1/1:  mini-batch 28/73:  Train loss: 0.13294613361358643  Test loss: 0.11344992369413376 \n",
      "Epoch: 1/1:  mini-batch 29/73:  Train loss: 0.112978994846344  Test loss: 0.09620285034179688 \n",
      "Epoch: 1/1:  mini-batch 30/73:  Train loss: 0.08728628605604172  Test loss: 0.07798194885253906 \n",
      "Epoch: 1/1:  mini-batch 31/73:  Train loss: 0.07337703555822372  Test loss: 0.06280169636011124 \n",
      "Epoch: 1/1:  mini-batch 32/73:  Train loss: 0.04832184314727783  Test loss: 0.05316893756389618 \n",
      "Epoch: 1/1:  mini-batch 33/73:  Train loss: 0.0418996661901474  Test loss: 0.05050593614578247 \n",
      "Epoch: 1/1:  mini-batch 34/73:  Train loss: 0.0407271608710289  Test loss: 0.05280020833015442 \n",
      "Epoch: 1/1:  mini-batch 35/73:  Train loss: 0.04758578538894653  Test loss: 0.05778644233942032 \n",
      "Epoch: 1/1:  mini-batch 36/73:  Train loss: 0.054955728352069855  Test loss: 0.0625346228480339 \n",
      "Epoch: 1/1:  mini-batch 37/73:  Train loss: 0.04565783962607384  Test loss: 0.06544829905033112 \n",
      "Epoch: 1/1:  mini-batch 38/73:  Train loss: 0.07518693804740906  Test loss: 0.06501740217208862 \n",
      "Epoch: 1/1:  mini-batch 39/73:  Train loss: 0.06103260815143585  Test loss: 0.06216195225715637 \n",
      "Epoch: 1/1:  mini-batch 40/73:  Train loss: 0.053813666105270386  Test loss: 0.0575241819024086 \n",
      "Epoch: 1/1:  mini-batch 41/73:  Train loss: 0.05745502561330795  Test loss: 0.052321791648864746 \n",
      "Epoch: 1/1:  mini-batch 42/73:  Train loss: 0.04516294598579407  Test loss: 0.04772811010479927 \n",
      "Epoch: 1/1:  mini-batch 43/73:  Train loss: 0.042749419808387756  Test loss: 0.044698331505060196 \n",
      "Epoch: 1/1:  mini-batch 44/73:  Train loss: 0.04809512197971344  Test loss: 0.04356857016682625 \n",
      "Epoch: 1/1:  mini-batch 45/73:  Train loss: 0.030458638444542885  Test loss: 0.04409416392445564 \n",
      "Epoch: 1/1:  mini-batch 46/73:  Train loss: 0.0371600016951561  Test loss: 0.045598626136779785 \n",
      "Epoch: 1/1:  mini-batch 47/73:  Train loss: 0.033184852451086044  Test loss: 0.04717426002025604 \n",
      "Epoch: 1/1:  mini-batch 48/73:  Train loss: 0.03329494595527649  Test loss: 0.048151686787605286 \n",
      "Epoch: 1/1:  mini-batch 49/73:  Train loss: 0.02653515338897705  Test loss: 0.048535529524087906 \n",
      "Epoch: 1/1:  mini-batch 50/73:  Train loss: 0.029422471299767494  Test loss: 0.04804772883653641 \n",
      "Epoch: 1/1:  mini-batch 51/73:  Train loss: 0.028605351224541664  Test loss: 0.04705788195133209 \n",
      "Epoch: 1/1:  mini-batch 52/73:  Train loss: 0.038328833878040314  Test loss: 0.045837465673685074 \n",
      "Epoch: 1/1:  mini-batch 53/73:  Train loss: 0.035255685448646545  Test loss: 0.04467466101050377 \n",
      "Epoch: 1/1:  mini-batch 54/73:  Train loss: 0.02685871347784996  Test loss: 0.043946780264377594 \n",
      "Epoch: 1/1:  mini-batch 55/73:  Train loss: 0.03174959868192673  Test loss: 0.04354926198720932 \n",
      "Epoch: 1/1:  mini-batch 56/73:  Train loss: 0.03038717992603779  Test loss: 0.04352075979113579 \n",
      "Epoch: 1/1:  mini-batch 57/73:  Train loss: 0.023596487939357758  Test loss: 0.04376087710261345 \n",
      "Epoch: 1/1:  mini-batch 58/73:  Train loss: 0.028601564466953278  Test loss: 0.04396224766969681 \n",
      "Epoch: 1/1:  mini-batch 59/73:  Train loss: 0.025679856538772583  Test loss: 0.043829649686813354 \n",
      "Epoch: 1/1:  mini-batch 60/73:  Train loss: 0.03294053673744202  Test loss: 0.04353019595146179 \n",
      "Epoch: 1/1:  mini-batch 61/73:  Train loss: 0.029065340757369995  Test loss: 0.043137870728969574 \n",
      "Epoch: 1/1:  mini-batch 62/73:  Train loss: 0.042543891817331314  Test loss: 0.04274386540055275 \n",
      "Epoch: 1/1:  mini-batch 63/73:  Train loss: 0.0334741473197937  Test loss: 0.04248304292559624 \n",
      "Epoch: 1/1:  mini-batch 64/73:  Train loss: 0.039394792169332504  Test loss: 0.042352672666311264 \n",
      "Epoch: 1/1:  mini-batch 65/73:  Train loss: 0.04769729822874069  Test loss: 0.04231371358036995 \n",
      "Epoch: 1/1:  mini-batch 66/73:  Train loss: 0.03544645011425018  Test loss: 0.04236889258027077 \n",
      "Epoch: 1/1:  mini-batch 67/73:  Train loss: 0.035470619797706604  Test loss: 0.04247254505753517 \n",
      "Epoch: 1/1:  mini-batch 68/73:  Train loss: 0.03162212669849396  Test loss: 0.04266499727964401 \n",
      "Epoch: 1/1:  mini-batch 69/73:  Train loss: 0.03808433562517166  Test loss: 0.04288040101528168 \n",
      "Epoch: 1/1:  mini-batch 70/73:  Train loss: 0.0433749258518219  Test loss: 0.04309161379933357 \n",
      "Epoch: 1/1:  mini-batch 71/73:  Train loss: 0.02697889693081379  Test loss: 0.0431884303689003 \n",
      "Epoch: 1/1:  mini-batch 72/73:  Train loss: 0.03747902438044548  Test loss: 0.04319101944565773 \n",
      "Epoch: 1/1:  mini-batch 73/73:  Train loss: 0.03471635654568672  Test loss: 0.04287285730242729 \n"
     ]
    }
   ],
   "source": [
    "completed = 0\n",
    "epoch_train_losses = []\n",
    "epoch_test_losses = []\n",
    "ended = False\n",
    "epoch = 0\n",
    "sess = tf.Session()\n",
    "# Initialize variables\n",
    "sess.run(tf.global_variables_initializer())\n",
    "while (epoch < epochs) and not(ended):\n",
    "    completed = int(epoch * 100/epochs)\n",
    "    if completed >= perc:\n",
    "        print(str(perc) + \" % completed\")\n",
    "        perc = int(epoch * 100/epochs)\n",
    "\n",
    "    batch_completed = 0\n",
    "    mini_batch = 1\n",
    "    mini_batch_train_losses = []\n",
    "    mini_batch_test_losses = []\n",
    "    while batch_completed < (len(X_train) - batch_size):\n",
    "        train_X = X_train[batch_completed:(batch_completed + batch_size)]\n",
    "        train_Y = Y_train[batch_completed:(batch_completed + batch_size)]\n",
    "        loss = train(sess, mlp, train_X, train_Y)\n",
    "        # Runs out of memory while evaluating on the complete test set. Only batch_size used for evaluating\n",
    "        # This step should be randomized\n",
    "        test_loss = get_loss(sess, mlp, X_test[0:batch_size], Y_test[0:batch_size])\n",
    "        print('Epoch: {}/{}: '.format(epoch+1, epochs), 'mini-batch {}/{}: '.format(mini_batch, num_batches), \"Train loss: {} \".format(loss), \"Test loss: {} \".format(test_loss))\n",
    "        batch_completed += batch_size\n",
    "        mini_batch += 1\n",
    "        mini_batch_train_losses.append(loss)\n",
    "        mini_batch_test_losses.append(test_loss)\n",
    "    epoch_train_losses.append(sum(mini_batch_train_losses)/len(mini_batch_train_losses))\n",
    "    epoch_test_losses.append(sum(mini_batch_test_losses)/len(mini_batch_test_losses))\n",
    "    # Early stopping check (callback should be used instead):\n",
    "    if (epoch > 0) and (epoch_test_losses[epoch] > epoch_test_losses[epoch - 1]):\n",
    "        saver.save(sess, \"supervised_feedfoward_aircraft_center_continuous\")\n",
    "        ended = True\n",
    "\n",
    "    epoch += 1"
   ]
  },
  {
   "cell_type": "code",
   "execution_count": 18,
   "metadata": {},
   "outputs": [
    {
     "data": {
      "text/plain": [
       "(array([2.000e+00, 2.000e+00, 0.000e+00, 2.000e+00, 0.000e+00, 0.000e+00,\n",
       "        3.000e+00, 9.000e+00, 1.100e+01, 2.900e+01, 8.300e+01, 2.140e+02,\n",
       "        3.620e+02, 6.230e+02, 8.500e+02, 1.013e+03, 1.605e+03, 3.495e+03,\n",
       "        5.650e+02, 1.670e+02, 8.300e+01, 4.700e+01, 3.300e+01, 3.700e+01,\n",
       "        1.900e+01, 2.500e+01, 1.200e+01, 1.100e+01, 8.000e+00, 6.000e+00,\n",
       "        1.400e+01, 3.000e+00, 1.600e+01, 3.000e+00, 1.000e+00, 0.000e+00,\n",
       "        1.000e+00, 1.000e+00, 0.000e+00, 1.000e+00]),\n",
       " array([0.   , 0.025, 0.05 , 0.075, 0.1  , 0.125, 0.15 , 0.175, 0.2  ,\n",
       "        0.225, 0.25 , 0.275, 0.3  , 0.325, 0.35 , 0.375, 0.4  , 0.425,\n",
       "        0.45 , 0.475, 0.5  , 0.525, 0.55 , 0.575, 0.6  , 0.625, 0.65 ,\n",
       "        0.675, 0.7  , 0.725, 0.75 , 0.775, 0.8  , 0.825, 0.85 , 0.875,\n",
       "        0.9  , 0.925, 0.95 , 0.975, 1.   ]),\n",
       " <a list of 40 Patch objects>)"
      ]
     },
     "execution_count": 18,
     "metadata": {},
     "output_type": "execute_result"
    },
    {
     "data": {
      "image/png": "[encoded data removed]",
      "text/plain": [
       "<Figure size 432x288 with 1 Axes>"
      ]
     },
     "metadata": {
      "needs_background": "light"
     },
     "output_type": "display_data"
    }
   ],
   "source": [
    "plt.hist(Y_train[:, 0], bins = 40)"
   ]
  },
  {
   "cell_type": "code",
   "execution_count": 19,
   "metadata": {},
   "outputs": [
    {
     "data": {
      "text/plain": [
       "(array([1.000e+00, 2.000e+00, 1.000e+00, 4.000e+00, 1.200e+01, 1.900e+01,\n",
       "        3.700e+01, 7.000e+01, 1.100e+02, 1.540e+02, 2.010e+02, 2.250e+02,\n",
       "        3.700e+02, 4.140e+02, 4.410e+02, 4.370e+02, 3.740e+02, 4.010e+02,\n",
       "        7.460e+02, 5.750e+02, 4.254e+03, 1.110e+02, 3.900e+01, 5.400e+01,\n",
       "        2.900e+01, 3.100e+01, 3.300e+01, 3.100e+01, 2.200e+01, 3.500e+01,\n",
       "        2.200e+01, 2.300e+01, 3.000e+01, 1.300e+01, 1.000e+01, 1.000e+01,\n",
       "        9.000e+00, 3.000e+00, 2.000e+00, 1.000e+00]),\n",
       " array([0.   , 0.025, 0.05 , 0.075, 0.1  , 0.125, 0.15 , 0.175, 0.2  ,\n",
       "        0.225, 0.25 , 0.275, 0.3  , 0.325, 0.35 , 0.375, 0.4  , 0.425,\n",
       "        0.45 , 0.475, 0.5  , 0.525, 0.55 , 0.575, 0.6  , 0.625, 0.65 ,\n",
       "        0.675, 0.7  , 0.725, 0.75 , 0.775, 0.8  , 0.825, 0.85 , 0.875,\n",
       "        0.9  , 0.925, 0.95 , 0.975, 1.   ]),\n",
       " <a list of 40 Patch objects>)"
      ]
     },
     "execution_count": 19,
     "metadata": {},
     "output_type": "execute_result"
    },
    {
     "data": {
      "image/png": "[encoded data removed]",
      "text/plain": [
       "<Figure size 432x288 with 1 Axes>"
      ]
     },
     "metadata": {
      "needs_background": "light"
     },
     "output_type": "display_data"
    }
   ],
   "source": [
    "plt.hist(Y_train[:, 1], bins = 40)"
   ]
  },
  {
   "cell_type": "code",
   "execution_count": 20,
   "metadata": {},
   "outputs": [
    {
     "data": {
      "text/plain": [
       "(array([  31.,  102.,   95.,   78.,   45.,   34.,   29.,   33.,   22.,\n",
       "          29.,   19.,   49.,   76.,  103.,  187.,   99.,  124.,  276.,\n",
       "         608., 4697., 1124.,  323.,  155.,   92.,   90.,   60.,   40.,\n",
       "          23.,   22.,   27.,   33.,   52.,   37.,   39.,   76.,  119.,\n",
       "          99.,  131.,   64.,   14.]),\n",
       " array([0.00840336, 0.03319328, 0.05798319, 0.08277311, 0.10756303,\n",
       "        0.13235294, 0.15714286, 0.18193277, 0.20672269, 0.23151261,\n",
       "        0.25630252, 0.28109244, 0.30588235, 0.33067227, 0.35546218,\n",
       "        0.3802521 , 0.40504202, 0.42983193, 0.45462185, 0.47941176,\n",
       "        0.50420168, 0.5289916 , 0.55378151, 0.57857143, 0.60336134,\n",
       "        0.62815126, 0.65294118, 0.67773109, 0.70252101, 0.72731092,\n",
       "        0.75210084, 0.77689076, 0.80168067, 0.82647059, 0.8512605 ,\n",
       "        0.87605042, 0.90084034, 0.92563025, 0.95042017, 0.97521008,\n",
       "        1.        ]),\n",
       " <a list of 40 Patch objects>)"
      ]
     },
     "execution_count": 20,
     "metadata": {},
     "output_type": "execute_result"
    },
    {
     "data": {
      "image/png": "[encoded data removed]",
      "text/plain": [
       "<Figure size 432x288 with 1 Axes>"
      ]
     },
     "metadata": {
      "needs_background": "light"
     },
     "output_type": "display_data"
    }
   ],
   "source": [
    "plt.hist(Y_train[:, 2], bins = 40)"
   ]
  },
  {
   "cell_type": "code",
   "execution_count": 21,
   "metadata": {},
   "outputs": [
    {
     "data": {
      "text/plain": [
       "array([0.4108642 , 0.4588248 , 0.50084878])"
      ]
     },
     "execution_count": 21,
     "metadata": {},
     "output_type": "execute_result"
    }
   ],
   "source": [
    "np.mean(Y_train, axis = 0)"
   ]
  },
  {
   "cell_type": "code",
   "execution_count": 22,
   "metadata": {},
   "outputs": [
    {
     "data": {
      "text/plain": [
       "array([-1.86345661e+01, -2.20348440e+03,  1.60602822e+00])"
      ]
     },
     "execution_count": 22,
     "metadata": {},
     "output_type": "execute_result"
    }
   ],
   "source": [
    "np.mean(Y_train * (y_max - y_min) + y_min, axis = 0)"
   ]
  },
  {
   "cell_type": "code",
   "execution_count": 23,
   "metadata": {},
   "outputs": [],
   "source": [
    "# ts_start and ts_end are integers: minute index\n",
    "state_dim = [2 * half_x_length + 1, 2 * half_y_length + 1, 2 * half_z_length + 1]\n",
    "def test_timestep_predictions(ts_start, ts_end):\n",
    "    X, Y = get_X_Y(flight_data, [i for i in range(0, 11)])\n",
    "    keys = list(X.keys())\n",
    "    X = [X[key] for key in keys]\n",
    "    X = np.concatenate([x.reshape((1, 8250)) for x in X], axis = 0)\n",
    "    Y = [Y[key] for key in keys]\n",
    "    Y = np.array(Y)\n",
    "    Y_actual = ((np.array(Y) - y_min)/(y_max - y_min))\n",
    "    X = np.concatenate([x.reshape((1, 8250)) for x in X], axis = 0)\n",
    "    Y_pred = get_predicted_action(sess, mlp, X)\n",
    "    Y_pred_transformed = Y_pred * (y_max - y_min) + y_min\n",
    "    loss = get_loss(sess, mlp, X, Y_actual)\n",
    "    Y_pred = {keys[i]: Y_pred[i, :] for i in range(len(keys))}\n",
    "    Y_pred_transformed = {keys[i]: Y_pred_transformed[i, :] for i in range(len(keys))}\n",
    "    return Y_pred, Y_pred_transformed, loss\n",
    "\n",
    "Y_pred, Y_pred_transformed, loss = test_timestep_predictions(0, 10)"
   ]
  },
  {
   "cell_type": "code",
   "execution_count": 24,
   "metadata": {},
   "outputs": [
    {
     "data": {
      "text/plain": [
       "{(1, '4006AE_0'): array([0.4229212 , 0.46909505, 0.49265194], dtype=float32),\n",
       " (1, '71BE28_0'): array([0.4229212 , 0.46909505, 0.49265194], dtype=float32),\n",
       " (1, 'A0232A_0'): array([0.4229212 , 0.46909505, 0.49265194], dtype=float32),\n",
       " (1, 'A10D82_0'): array([0.4229212 , 0.46909505, 0.49265194], dtype=float32),\n",
       " (1, 'A25238_0'): array([0.4229212 , 0.46909505, 0.49265194], dtype=float32),\n",
       " (1, 'A30520_0'): array([0.4229212 , 0.46909505, 0.49265194], dtype=float32),\n",
       " (1, 'A36F7E_0'): array([0.4229212 , 0.46909505, 0.49265194], dtype=float32),\n",
       " (1, 'A64D4D_0'): array([0.4229212 , 0.46909505, 0.49265194], dtype=float32),\n",
       " (1, 'A7B832_0'): array([0.4229212 , 0.46909505, 0.49265194], dtype=float32),\n",
       " (1, 'A7F6F6_0'): array([0.4229212 , 0.46909505, 0.49265194], dtype=float32),\n",
       " (1, 'A96C96_0'): array([0.4229212 , 0.46909505, 0.49265194], dtype=float32),\n",
       " (1, 'AAFBE3_0'): array([0.4229212 , 0.46909505, 0.49265194], dtype=float32),\n",
       " (1, 'AB2B2C_0'): array([0.4229212 , 0.46909505, 0.49265194], dtype=float32),\n",
       " (1, 'AC50D1_0'): array([0.4229212 , 0.46909505, 0.49265194], dtype=float32),\n",
       " (1, 'AC8EFA_0'): array([0.4229212 , 0.46909505, 0.49265194], dtype=float32),\n",
       " (1, 'ACE063_0'): array([0.4229212 , 0.46909505, 0.49265194], dtype=float32),\n",
       " (2, '4006AE_0'): array([0.4229212 , 0.46909505, 0.49265194], dtype=float32),\n",
       " (2, '71BE28_0'): array([0.4229212 , 0.46909505, 0.49265194], dtype=float32),\n",
       " (2, 'A0232A_0'): array([0.4229212 , 0.46909505, 0.49265194], dtype=float32),\n",
       " (2, 'A10D82_0'): array([0.4229212 , 0.46909505, 0.49265194], dtype=float32),\n",
       " (2, 'A25238_0'): array([0.4229212 , 0.46909505, 0.49265194], dtype=float32),\n",
       " (2, 'A30520_0'): array([0.4229212 , 0.46909505, 0.49265194], dtype=float32),\n",
       " (2, 'A36F7E_0'): array([0.4229212 , 0.46909505, 0.49265194], dtype=float32),\n",
       " (2, 'A3CC37_0'): array([0.4229212 , 0.46909505, 0.49265194], dtype=float32),\n",
       " (2, 'A7B832_0'): array([0.4229212 , 0.46909505, 0.49265194], dtype=float32),\n",
       " (2, 'A7F6F6_0'): array([0.4229212 , 0.46909505, 0.49265194], dtype=float32),\n",
       " (2, 'A96C96_0'): array([0.4229212 , 0.46909505, 0.49265194], dtype=float32),\n",
       " (2, 'AAFBE3_0'): array([0.4229212 , 0.46909505, 0.49265194], dtype=float32),\n",
       " (2, 'AB2B2C_0'): array([0.4229212 , 0.46909505, 0.49265194], dtype=float32),\n",
       " (2, 'AC50D1_0'): array([0.4229212 , 0.46909505, 0.49265194], dtype=float32),\n",
       " (2, 'AC8EFA_0'): array([0.4229212 , 0.46909505, 0.49265194], dtype=float32),\n",
       " (2, 'ACBF73_0'): array([0.4229212 , 0.46909505, 0.49265194], dtype=float32),\n",
       " (2, 'ACE063_0'): array([0.4229212 , 0.46909505, 0.49265194], dtype=float32),\n",
       " (3, '4006AE_0'): array([0.4229212 , 0.46909505, 0.49265194], dtype=float32),\n",
       " (3, '71BE28_0'): array([0.4229212 , 0.46909505, 0.49265194], dtype=float32),\n",
       " (3, 'A0232A_0'): array([0.4229212 , 0.46909505, 0.49265194], dtype=float32),\n",
       " (3, 'A10D82_0'): array([0.4229212 , 0.46909505, 0.49265194], dtype=float32),\n",
       " (3, 'A25238_0'): array([0.4229212 , 0.46909505, 0.49265194], dtype=float32),\n",
       " (3, 'A30520_0'): array([0.4229212 , 0.46909505, 0.49265194], dtype=float32),\n",
       " (3, 'A36F7E_0'): array([0.4229212 , 0.46909505, 0.49265194], dtype=float32),\n",
       " (3, 'A3CC37_0'): array([0.4229212 , 0.46909505, 0.49265194], dtype=float32),\n",
       " (3, 'A7B832_0'): array([0.4229212 , 0.46909505, 0.49265194], dtype=float32),\n",
       " (3, 'A7F6F6_0'): array([0.4229212 , 0.46909505, 0.49265194], dtype=float32),\n",
       " (3, 'A96C96_0'): array([0.4229212 , 0.46909505, 0.49265194], dtype=float32),\n",
       " (3, 'AAFBE3_0'): array([0.4229212 , 0.46909505, 0.49265194], dtype=float32),\n",
       " (3, 'AB2B2C_0'): array([0.4229212 , 0.46909505, 0.49265194], dtype=float32),\n",
       " (3, 'AC50D1_0'): array([0.4229212 , 0.46909505, 0.49265194], dtype=float32),\n",
       " (3, 'AC8EFA_0'): array([0.4229212 , 0.46909505, 0.49265194], dtype=float32),\n",
       " (3, 'ACBF73_0'): array([0.4229212 , 0.46909505, 0.49265194], dtype=float32),\n",
       " (3, 'ACE063_0'): array([0.4229212 , 0.46909505, 0.49265194], dtype=float32),\n",
       " (4, '4006AE_0'): array([0.4229212 , 0.46909505, 0.49265194], dtype=float32),\n",
       " (4, 'A0232A_0'): array([0.4229212 , 0.46909505, 0.49265194], dtype=float32),\n",
       " (4, 'A10D82_0'): array([0.4229212 , 0.46909505, 0.49265194], dtype=float32),\n",
       " (4, 'A25238_0'): array([0.4229212 , 0.46909505, 0.49265194], dtype=float32),\n",
       " (4, 'A30520_0'): array([0.4229212 , 0.46909505, 0.49265194], dtype=float32),\n",
       " (4, 'A36F7E_0'): array([0.4229212 , 0.46909505, 0.49265194], dtype=float32),\n",
       " (4, 'A3CC37_0'): array([0.4229212 , 0.46909505, 0.49265194], dtype=float32),\n",
       " (4, 'A7B832_0'): array([0.4229212 , 0.46909505, 0.49265194], dtype=float32),\n",
       " (4, 'A7F6F6_0'): array([0.4229212 , 0.46909505, 0.49265194], dtype=float32),\n",
       " (4, 'A96C96_0'): array([0.4229212 , 0.46909505, 0.49265194], dtype=float32),\n",
       " (4, 'AAFBE3_0'): array([0.4229212 , 0.46909505, 0.49265194], dtype=float32),\n",
       " (4, 'AB2B2C_0'): array([0.4229212 , 0.46909505, 0.49265194], dtype=float32),\n",
       " (4, 'AC50D1_0'): array([0.4229212 , 0.46909505, 0.49265194], dtype=float32),\n",
       " (4, 'AC8EFA_0'): array([0.4229212 , 0.46909505, 0.49265194], dtype=float32),\n",
       " (4, 'ACBF73_0'): array([0.4229212 , 0.46909505, 0.49265194], dtype=float32),\n",
       " (4, 'ACE063_0'): array([0.4229212 , 0.46909505, 0.49265194], dtype=float32),\n",
       " (5, 'A0232A_0'): array([0.4229212 , 0.46909505, 0.49265194], dtype=float32),\n",
       " (5, 'A10D82_0'): array([0.4229212 , 0.46909505, 0.49265194], dtype=float32),\n",
       " (5, 'A25238_0'): array([0.4229212 , 0.46909505, 0.49265194], dtype=float32),\n",
       " (5, 'A30520_0'): array([0.4229212 , 0.46909505, 0.49265194], dtype=float32),\n",
       " (5, 'A36F7E_0'): array([0.4229212 , 0.46909505, 0.49265194], dtype=float32),\n",
       " (5, 'A3CC37_0'): array([0.4229212 , 0.46909505, 0.49265194], dtype=float32),\n",
       " (5, 'A7B832_0'): array([0.4229212 , 0.46909505, 0.49265194], dtype=float32),\n",
       " (5, 'A7F6F6_0'): array([0.4229212 , 0.46909505, 0.49265194], dtype=float32),\n",
       " (5, 'A96C96_0'): array([0.4229212 , 0.46909505, 0.49265194], dtype=float32),\n",
       " (5, 'AAFBE3_0'): array([0.4229212 , 0.46909505, 0.49265194], dtype=float32),\n",
       " (5, 'AB2B2C_0'): array([0.4229212 , 0.46909505, 0.49265194], dtype=float32),\n",
       " (5, 'AC50D1_0'): array([0.4229212 , 0.46909505, 0.49265194], dtype=float32),\n",
       " (5, 'AC8EFA_0'): array([0.4229212 , 0.46909505, 0.49265194], dtype=float32),\n",
       " (5, 'ACBF73_0'): array([0.4229212 , 0.46909505, 0.49265194], dtype=float32),\n",
       " (5, 'ACE063_0'): array([0.4229212 , 0.46909505, 0.49265194], dtype=float32),\n",
       " (6, '0D0683_0'): array([0.4229212 , 0.46909505, 0.49265194], dtype=float32),\n",
       " (6, 'A0232A_0'): array([0.4229212 , 0.46909505, 0.49265194], dtype=float32),\n",
       " (6, 'A10D82_0'): array([0.4229212 , 0.46909505, 0.49265194], dtype=float32),\n",
       " (6, 'A25238_0'): array([0.4229212 , 0.46909505, 0.49265194], dtype=float32),\n",
       " (6, 'A30520_0'): array([0.4229212 , 0.46909505, 0.49265194], dtype=float32),\n",
       " (6, 'A36F7E_0'): array([0.4229212 , 0.46909505, 0.49265194], dtype=float32),\n",
       " (6, 'A3CC37_0'): array([0.4229212 , 0.46909505, 0.49265194], dtype=float32),\n",
       " (6, 'A7B832_0'): array([0.4229212 , 0.46909505, 0.49265194], dtype=float32),\n",
       " (6, 'A7F6F6_0'): array([0.4229212 , 0.46909505, 0.49265194], dtype=float32),\n",
       " (6, 'A96C96_0'): array([0.4229212 , 0.46909505, 0.49265194], dtype=float32),\n",
       " (6, 'AAFBE3_0'): array([0.4229212 , 0.46909505, 0.49265194], dtype=float32),\n",
       " (6, 'ABEF52_0'): array([0.4229212 , 0.46909505, 0.49265194], dtype=float32),\n",
       " (6, 'AC8EFA_0'): array([0.4229212 , 0.46909505, 0.49265194], dtype=float32),\n",
       " (6, 'ACBF73_0'): array([0.4229212 , 0.46909505, 0.49265194], dtype=float32),\n",
       " (6, 'ACE063_0'): array([0.4229212 , 0.46909505, 0.49265194], dtype=float32),\n",
       " (7, '0D0683_0'): array([0.4229212 , 0.46909505, 0.49265194], dtype=float32),\n",
       " (7, 'A10D82_0'): array([0.4229212 , 0.46909505, 0.49265194], dtype=float32),\n",
       " (7, 'A25238_0'): array([0.4229212 , 0.46909505, 0.49265194], dtype=float32),\n",
       " (7, 'A30520_0'): array([0.4229212 , 0.46909505, 0.49265194], dtype=float32),\n",
       " (7, 'A36F7E_0'): array([0.4229212 , 0.46909505, 0.49265194], dtype=float32),\n",
       " (7, 'A3CC37_0'): array([0.4229212 , 0.46909505, 0.49265194], dtype=float32),\n",
       " (7, 'A7B832_0'): array([0.4229212 , 0.46909505, 0.49265194], dtype=float32),\n",
       " (7, 'A7F6F6_0'): array([0.4229212 , 0.46909505, 0.49265194], dtype=float32),\n",
       " (7, 'A96C96_0'): array([0.4229212 , 0.46909505, 0.49265194], dtype=float32),\n",
       " (7, 'AAFBE3_0'): array([0.4229212 , 0.46909505, 0.49265194], dtype=float32),\n",
       " (7, 'AB60E3_0'): array([0.4229212 , 0.46909505, 0.49265194], dtype=float32),\n",
       " (7, 'ABEF52_0'): array([0.4229212 , 0.46909505, 0.49265194], dtype=float32),\n",
       " (7, 'ACA79D_0'): array([0.4229212 , 0.46909505, 0.49265194], dtype=float32),\n",
       " (7, 'ACBF73_0'): array([0.4229212 , 0.46909505, 0.49265194], dtype=float32),\n",
       " (7, 'ACE063_0'): array([0.4229212 , 0.46909505, 0.49265194], dtype=float32),\n",
       " (8, '0D0683_0'): array([0.4229212 , 0.46909505, 0.49265194], dtype=float32),\n",
       " (8, 'A10D82_0'): array([0.4229212 , 0.46909505, 0.49265194], dtype=float32),\n",
       " (8, 'A30520_0'): array([0.4229212 , 0.46909505, 0.49265194], dtype=float32),\n",
       " (8, 'A3CC37_0'): array([0.4229212 , 0.46909505, 0.49265194], dtype=float32),\n",
       " (8, 'A7B832_0'): array([0.4229212 , 0.46909505, 0.49265194], dtype=float32),\n",
       " (8, 'A7F6F6_0'): array([0.4229212 , 0.46909505, 0.49265194], dtype=float32),\n",
       " (8, 'A96C96_0'): array([0.4229212 , 0.46909505, 0.49265194], dtype=float32),\n",
       " (8, 'AAFBE3_0'): array([0.4229212 , 0.46909505, 0.49265194], dtype=float32),\n",
       " (8, 'AB60E3_0'): array([0.4229212 , 0.46909505, 0.49265194], dtype=float32),\n",
       " (8, 'ABEF52_0'): array([0.4229212 , 0.46909505, 0.49265194], dtype=float32),\n",
       " (8, 'ACA79D_0'): array([0.4229212 , 0.46909505, 0.49265194], dtype=float32),\n",
       " (8, 'ACBF73_0'): array([0.4229212 , 0.46909505, 0.49265194], dtype=float32),\n",
       " (8, 'ACE063_0'): array([0.4229212 , 0.46909505, 0.49265194], dtype=float32),\n",
       " (9, '0D0683_0'): array([0.4229212 , 0.46909505, 0.49265194], dtype=float32),\n",
       " (9, 'A10D82_0'): array([0.4229212 , 0.46909505, 0.49265194], dtype=float32),\n",
       " (9, 'A30520_0'): array([0.4229212 , 0.46909505, 0.49265194], dtype=float32),\n",
       " (9, 'A3CC37_0'): array([0.4229212 , 0.46909505, 0.49265194], dtype=float32),\n",
       " (9, 'A7B832_0'): array([0.4229212 , 0.46909505, 0.49265194], dtype=float32),\n",
       " (9, 'AB60E3_0'): array([0.4229212 , 0.46909505, 0.49265194], dtype=float32),\n",
       " (9, 'ABEF52_0'): array([0.4229212 , 0.46909505, 0.49265194], dtype=float32),\n",
       " (9, 'ACA79D_0'): array([0.4229212 , 0.46909505, 0.49265194], dtype=float32),\n",
       " (9, 'ACBF73_0'): array([0.4229212 , 0.46909505, 0.49265194], dtype=float32),\n",
       " (9, 'ACE063_0'): array([0.4229212 , 0.46909505, 0.49265194], dtype=float32),\n",
       " (10, '0D0683_0'): array([0.4229212 , 0.46909505, 0.49265194], dtype=float32),\n",
       " (10, 'A30520_0'): array([0.4229212 , 0.46909505, 0.49265194], dtype=float32),\n",
       " (10, 'A3CC37_0'): array([0.4229212 , 0.46909505, 0.49265194], dtype=float32),\n",
       " (10, 'A7B832_0'): array([0.4229212 , 0.46909505, 0.49265194], dtype=float32),\n",
       " (10, 'AB60E3_0'): array([0.4229212 , 0.46909505, 0.49265194], dtype=float32),\n",
       " (10, 'ABEF52_0'): array([0.4229212 , 0.46909505, 0.49265194], dtype=float32),\n",
       " (10, 'ACA79D_0'): array([0.4229212 , 0.46909505, 0.49265194], dtype=float32),\n",
       " (10, 'ACBF73_0'): array([0.4229212 , 0.46909505, 0.49265194], dtype=float32),\n",
       " (10, 'ACE063_0'): array([0.4229212 , 0.46909505, 0.49265194], dtype=float32)}"
      ]
     },
     "execution_count": 24,
     "metadata": {},
     "output_type": "execute_result"
    }
   ],
   "source": [
    "Y_pred"
   ]
  },
  {
   "cell_type": "code",
   "execution_count": 25,
   "metadata": {},
   "outputs": [],
   "source": [
    "def simulate_timestep_predictions(flight_data, ts_start, ts_end):\n",
    "    for ts in range(ts_start, ts_end + 1):\n",
    "        X, Y = get_X_Y(flight_data, [ts])\n",
    "        keys = list(X.keys())\n",
    "        if len(keys) > 0:\n",
    "            X = [X[key] for key in keys]\n",
    "            X = np.concatenate([x.reshape((1, 8250)) for x in X], axis = 0)\n",
    "            Y = [Y[key] for key in keys]\n",
    "            Y = np.array(Y)\n",
    "            Y_actual = ((np.array(Y) - y_min)/(y_max - y_min))\n",
    "            X = np.concatenate([x.reshape((1, 8250)) for x in X], axis = 0)\n",
    "            Y_pred = get_predicted_action(sess, mlp, X)\n",
    "            Y_pred_transformed = Y_pred * (y_max - y_min) + y_min\n",
    "            loss = get_loss(sess, mlp, X, Y_actual)\n",
    "            Y_pred = {keys[i]: Y_pred[i, :] for i in range(len(keys))}\n",
    "            Y_pred_transformed = {keys[i]: Y_pred_transformed[i, :] for i in range(len(keys))}\n",
    "            ts_df = flight_data[flight_data['ts'] == ts]\n",
    "            # if ts == ts_start:\n",
    "            for key in Y_pred_transformed.keys():\n",
    "                distance = ts_df[ts_df['id'] == key[1]]['ground_speed'].iloc[0] * 60 * 4.63 / 9 # metres\n",
    "                lat, lon = destination(ts_df[ts_df['id'] == key[1]]['lat'].iloc[0], ts_df[ts_df['id'] == key[1]]['lon'].iloc[0], ts_df[ts_df['id'] == key[1]]['azimuth'].iloc[0], distance)\n",
    "                speed = ts_df[ts_df['id'] == key[1]]['ground_speed'].iloc[0] + Y_pred_transformed[key][0]\n",
    "                altitude = ts_df[ts_df['id'] == key[1]]['altitude'].iloc[0] + Y_pred_transformed[key][1]\n",
    "                heading = ts_df[ts_df['id'] == key[1]]['azimuth'].iloc[0] + Y_pred_transformed[key][2]\n",
    "\n",
    "                # Updating values of next time steps\n",
    "                flight_data.loc[(flight_data['ts'] == (key[0]+1)) & (flight_data['id'] == key[1]), 'ground_speed'] = speed\n",
    "                flight_data.loc[(flight_data['ts'] == (key[0]+1)) & (flight_data['id'] == key[1]), 'altitude'] = altitude\n",
    "                flight_data.loc[(flight_data['ts'] == (key[0]+1)) & (flight_data['id'] == key[1]), 'azimuth'] = (heading % (2*math.pi))\n",
    "                flight_data.loc[(flight_data['ts'] == (key[0]+1)) & (flight_data['id'] == key[1]), 'lat'] = lat\n",
    "                flight_data.loc[(flight_data['ts'] == (key[0]+1)) & (flight_data['id'] == key[1]), 'lon'] = lon\n",
    "\n",
    "            flight_data['x'] = (x_length * (flight_data['lat'] - lat_min - 0.0001)/(lat_max - lat_min)).apply(math.ceil)\n",
    "            flight_data['y'] = (y_length * (flight_data['lon'] - lon_min - 0.0001)/(lon_max - lon_min)).apply(math.ceil)\n",
    "            flight_data['z'] = (flight_data['altitude']/alt_bucket_range).apply(math.floor)\n",
    "            # Dead aircraft: out of x range, y range or z range\n",
    "            exit_aircraft = flight_data[(flight_data['ts'] == (ts+1)) & ((flight_data['x'] < 0) | (flight_data['x'] >= x_length) | (flight_data['y'] < 0) | (flight_data['y'] >= y_length))]\n",
    "            crashed = flight_data[(flight_data['ts'] == (ts+1)) & (flight_data['z'] < 0) | (flight_data['z'] >= z_length) | (flight_data['altitude'] < 0) & ((flight_data['lat'] < 40) | (flight_data['lat'] > 41.25) | (flight_data['lon'] < -74.375) | (flight_data['lon'] > -73.125))]\n",
    "            remove_ids = set(exit_aircraft['id'].tolist() + crashed['id'].tolist())\n",
    "            flight_data = flight_data[flight_data['id'].apply(lambda x: not(x in remove_ids))]\n",
    "            print((ts, exit_aircraft.shape[0], crashed.shape[0]))\n",
    "\n",
    "\n",
    "# else:\n",
    "#     "
   ]
  },
  {
   "cell_type": "code",
   "execution_count": 26,
   "metadata": {},
   "outputs": [
    {
     "name": "stdout",
     "output_type": "stream",
     "text": [
      "(1, 2, 1)\n"
     ]
    },
    {
     "name": "stderr",
     "output_type": "stream",
     "text": [
      "/home/atc/anaconda3/envs/tf/lib/python3.7/site-packages/pandas-0.24.2-py3.7-linux-x86_64.egg/pandas/core/indexing.py:543: SettingWithCopyWarning: \n",
      "A value is trying to be set on a copy of a slice from a DataFrame.\n",
      "Try using .loc[row_indexer,col_indexer] = value instead\n",
      "\n",
      "See the caveats in the documentation: http://pandas.pydata.org/pandas-docs/stable/indexing.html#indexing-view-versus-copy\n",
      "  self.obj[item] = s\n",
      "/home/atc/anaconda3/envs/tf/lib/python3.7/site-packages/ipykernel_launcher.py:33: SettingWithCopyWarning: \n",
      "A value is trying to be set on a copy of a slice from a DataFrame.\n",
      "Try using .loc[row_indexer,col_indexer] = value instead\n",
      "\n",
      "See the caveats in the documentation: http://pandas.pydata.org/pandas-docs/stable/indexing.html#indexing-view-versus-copy\n",
      "/home/atc/anaconda3/envs/tf/lib/python3.7/site-packages/ipykernel_launcher.py:34: SettingWithCopyWarning: \n",
      "A value is trying to be set on a copy of a slice from a DataFrame.\n",
      "Try using .loc[row_indexer,col_indexer] = value instead\n",
      "\n",
      "See the caveats in the documentation: http://pandas.pydata.org/pandas-docs/stable/indexing.html#indexing-view-versus-copy\n",
      "/home/atc/anaconda3/envs/tf/lib/python3.7/site-packages/ipykernel_launcher.py:35: SettingWithCopyWarning: \n",
      "A value is trying to be set on a copy of a slice from a DataFrame.\n",
      "Try using .loc[row_indexer,col_indexer] = value instead\n",
      "\n",
      "See the caveats in the documentation: http://pandas.pydata.org/pandas-docs/stable/indexing.html#indexing-view-versus-copy\n"
     ]
    },
    {
     "name": "stdout",
     "output_type": "stream",
     "text": [
      "(2, 0, 1)\n",
      "(3, 4, 0)\n",
      "(4, 2, 0)\n",
      "(5, 3, 0)\n",
      "(6, 2, 1)\n",
      "(7, 4, 1)\n",
      "(8, 3, 0)\n",
      "(9, 5, 0)\n",
      "(10, 4, 0)\n",
      "(11, 2, 3)\n",
      "(12, 6, 0)\n",
      "(13, 5, 0)\n",
      "(14, 1, 0)\n",
      "(15, 3, 0)\n",
      "(16, 5, 1)\n",
      "(17, 3, 0)\n",
      "(18, 6, 1)\n",
      "(19, 5, 0)\n",
      "(20, 2, 0)\n",
      "(21, 2, 1)\n",
      "(22, 1, 0)\n",
      "(23, 4, 0)\n",
      "(24, 4, 2)\n",
      "(25, 4, 0)\n"
     ]
    }
   ],
   "source": [
    "simulate_timestep_predictions(flight_data, 0, 25)"
   ]
  },
  {
   "cell_type": "code",
   "execution_count": null,
   "metadata": {},
   "outputs": [],
   "source": []
  }
 ],
 "metadata": {
  "kernelspec": {
   "display_name": "tensorflow",
   "language": "python",
   "name": "tf"
  },
  "language_info": {
   "codemirror_mode": {
    "name": "ipython",
    "version": 3
   },
   "file_extension": ".py",
   "mimetype": "text/x-python",
   "name": "python",
   "nbconvert_exporter": "python",
   "pygments_lexer": "ipython3",
   "version": "3.7.3"
  }
 },
 "nbformat": 4,
 "nbformat_minor": 2
}
