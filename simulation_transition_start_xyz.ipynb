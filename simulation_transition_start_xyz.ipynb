{
 "cells": [
  {
   "cell_type": "code",
   "execution_count": 1,
   "metadata": {},
   "outputs": [],
   "source": [
    "import matplotlib.pyplot as plt\n",
    "import pandas as pd\n",
    "import numpy as np\n",
    "import random\n",
    "from transition_util import *\n",
    "import multiprocessing as mp\n",
    "import pickle\n",
    "import math\n",
    "import os"
   ]
  },
  {
   "cell_type": "code",
   "execution_count": 2,
   "metadata": {},
   "outputs": [
    {
     "ename": "MemoryError",
     "evalue": "",
     "output_type": "error",
     "traceback": [
      "\u001b[0;31m---------------------------------------------------------------------------\u001b[0m",
      "\u001b[0;31mMemoryError\u001b[0m                               Traceback (most recent call last)",
      "\u001b[0;32m<ipython-input-2-86aa5cadea2d>\u001b[0m in \u001b[0;36m<module>\u001b[0;34m\u001b[0m\n\u001b[1;32m      1\u001b[0m \u001b[0mflight_data\u001b[0m \u001b[0;34m=\u001b[0m \u001b[0mpd\u001b[0m\u001b[0;34m.\u001b[0m\u001b[0mread_csv\u001b[0m\u001b[0;34m(\u001b[0m\u001b[0;34m\"../../samples_with_jfk_landing_flag.csv\"\u001b[0m\u001b[0;34m)\u001b[0m\u001b[0;34m\u001b[0m\u001b[0;34m\u001b[0m\u001b[0m\n\u001b[0;32m----> 2\u001b[0;31m \u001b[0mflight_data\u001b[0m \u001b[0;34m=\u001b[0m \u001b[0mflight_data\u001b[0m\u001b[0;34m.\u001b[0m\u001b[0msort_values\u001b[0m\u001b[0;34m(\u001b[0m\u001b[0mby\u001b[0m \u001b[0;34m=\u001b[0m \u001b[0;34m[\u001b[0m\u001b[0;34m'id'\u001b[0m\u001b[0;34m,\u001b[0m \u001b[0;34m'ts'\u001b[0m\u001b[0;34m]\u001b[0m\u001b[0;34m)\u001b[0m\u001b[0;34m.\u001b[0m\u001b[0mreset_index\u001b[0m\u001b[0;34m(\u001b[0m\u001b[0mdrop\u001b[0m \u001b[0;34m=\u001b[0m \u001b[0;32mTrue\u001b[0m\u001b[0;34m)\u001b[0m\u001b[0;34m\u001b[0m\u001b[0;34m\u001b[0m\u001b[0m\n\u001b[0m\u001b[1;32m      3\u001b[0m \u001b[0;31m# flight_data['jfk_landing_flag'] = (flight_data['jfk_landing_flag'] & (flight_data['destination'] == 'JFK'))\u001b[0m\u001b[0;34m\u001b[0m\u001b[0;34m\u001b[0m\u001b[0;34m\u001b[0m\u001b[0m\n\u001b[1;32m      4\u001b[0m \u001b[0mflight_data\u001b[0m\u001b[0;34m[\u001b[0m\u001b[0;34m'lon'\u001b[0m\u001b[0;34m]\u001b[0m \u001b[0;34m=\u001b[0m \u001b[0mflight_data\u001b[0m\u001b[0;34m[\u001b[0m\u001b[0;34m'lon'\u001b[0m\u001b[0;34m]\u001b[0m\u001b[0;34m.\u001b[0m\u001b[0mclip\u001b[0m\u001b[0;34m(\u001b[0m\u001b[0;34m-\u001b[0m\u001b[0;36m78\u001b[0m\u001b[0;34m,\u001b[0m \u001b[0;34m-\u001b[0m\u001b[0;36m68\u001b[0m\u001b[0;34m)\u001b[0m\u001b[0;34m\u001b[0m\u001b[0;34m\u001b[0m\u001b[0m\n\u001b[1;32m      5\u001b[0m \u001b[0mflight_data\u001b[0m\u001b[0;34m[\u001b[0m\u001b[0;34m'lat'\u001b[0m\u001b[0;34m]\u001b[0m \u001b[0;34m=\u001b[0m \u001b[0mflight_data\u001b[0m\u001b[0;34m[\u001b[0m\u001b[0;34m'lat'\u001b[0m\u001b[0;34m]\u001b[0m\u001b[0;34m.\u001b[0m\u001b[0mclip\u001b[0m\u001b[0;34m(\u001b[0m\u001b[0;36m35\u001b[0m\u001b[0;34m,\u001b[0m \u001b[0;36m45\u001b[0m\u001b[0;34m)\u001b[0m\u001b[0;34m\u001b[0m\u001b[0;34m\u001b[0m\u001b[0m\n",
      "\u001b[0;32m~/anaconda3/envs/tf_gpu/lib/python3.6/site-packages/pandas/core/frame.py\u001b[0m in \u001b[0;36mreset_index\u001b[0;34m(self, level, drop, inplace, col_level, col_fill)\u001b[0m\n\u001b[1;32m   4605\u001b[0m             \u001b[0mnew_obj\u001b[0m \u001b[0;34m=\u001b[0m \u001b[0mself\u001b[0m\u001b[0;34m\u001b[0m\u001b[0;34m\u001b[0m\u001b[0m\n\u001b[1;32m   4606\u001b[0m         \u001b[0;32melse\u001b[0m\u001b[0;34m:\u001b[0m\u001b[0;34m\u001b[0m\u001b[0;34m\u001b[0m\u001b[0m\n\u001b[0;32m-> 4607\u001b[0;31m             \u001b[0mnew_obj\u001b[0m \u001b[0;34m=\u001b[0m \u001b[0mself\u001b[0m\u001b[0;34m.\u001b[0m\u001b[0mcopy\u001b[0m\u001b[0;34m(\u001b[0m\u001b[0;34m)\u001b[0m\u001b[0;34m\u001b[0m\u001b[0;34m\u001b[0m\u001b[0m\n\u001b[0m\u001b[1;32m   4608\u001b[0m \u001b[0;34m\u001b[0m\u001b[0m\n\u001b[1;32m   4609\u001b[0m         \u001b[0;32mdef\u001b[0m \u001b[0m_maybe_casted_values\u001b[0m\u001b[0;34m(\u001b[0m\u001b[0mindex\u001b[0m\u001b[0;34m,\u001b[0m \u001b[0mlabels\u001b[0m\u001b[0;34m=\u001b[0m\u001b[0;32mNone\u001b[0m\u001b[0;34m)\u001b[0m\u001b[0;34m:\u001b[0m\u001b[0;34m\u001b[0m\u001b[0;34m\u001b[0m\u001b[0m\n",
      "\u001b[0;32m~/anaconda3/envs/tf_gpu/lib/python3.6/site-packages/pandas/core/generic.py\u001b[0m in \u001b[0;36mcopy\u001b[0;34m(self, deep)\u001b[0m\n\u001b[1;32m   5995\u001b[0m         \u001b[0mdtype\u001b[0m\u001b[0;34m:\u001b[0m \u001b[0mobject\u001b[0m\u001b[0;34m\u001b[0m\u001b[0;34m\u001b[0m\u001b[0m\n\u001b[1;32m   5996\u001b[0m         \"\"\"\n\u001b[0;32m-> 5997\u001b[0;31m         \u001b[0mdata\u001b[0m \u001b[0;34m=\u001b[0m \u001b[0mself\u001b[0m\u001b[0;34m.\u001b[0m\u001b[0m_data\u001b[0m\u001b[0;34m.\u001b[0m\u001b[0mcopy\u001b[0m\u001b[0;34m(\u001b[0m\u001b[0mdeep\u001b[0m\u001b[0;34m=\u001b[0m\u001b[0mdeep\u001b[0m\u001b[0;34m)\u001b[0m\u001b[0;34m\u001b[0m\u001b[0;34m\u001b[0m\u001b[0m\n\u001b[0m\u001b[1;32m   5998\u001b[0m         \u001b[0;32mreturn\u001b[0m \u001b[0mself\u001b[0m\u001b[0;34m.\u001b[0m\u001b[0m_constructor\u001b[0m\u001b[0;34m(\u001b[0m\u001b[0mdata\u001b[0m\u001b[0;34m)\u001b[0m\u001b[0;34m.\u001b[0m\u001b[0m__finalize__\u001b[0m\u001b[0;34m(\u001b[0m\u001b[0mself\u001b[0m\u001b[0;34m)\u001b[0m\u001b[0;34m\u001b[0m\u001b[0;34m\u001b[0m\u001b[0m\n\u001b[1;32m   5999\u001b[0m \u001b[0;34m\u001b[0m\u001b[0m\n",
      "\u001b[0;32m~/anaconda3/envs/tf_gpu/lib/python3.6/site-packages/pandas/core/internals/managers.py\u001b[0m in \u001b[0;36mcopy\u001b[0;34m(self, deep)\u001b[0m\n\u001b[1;32m    785\u001b[0m         \u001b[0;32melse\u001b[0m\u001b[0;34m:\u001b[0m\u001b[0;34m\u001b[0m\u001b[0;34m\u001b[0m\u001b[0m\n\u001b[1;32m    786\u001b[0m             \u001b[0mnew_axes\u001b[0m \u001b[0;34m=\u001b[0m \u001b[0mlist\u001b[0m\u001b[0;34m(\u001b[0m\u001b[0mself\u001b[0m\u001b[0;34m.\u001b[0m\u001b[0maxes\u001b[0m\u001b[0;34m)\u001b[0m\u001b[0;34m\u001b[0m\u001b[0;34m\u001b[0m\u001b[0m\n\u001b[0;32m--> 787\u001b[0;31m         \u001b[0;32mreturn\u001b[0m \u001b[0mself\u001b[0m\u001b[0;34m.\u001b[0m\u001b[0mapply\u001b[0m\u001b[0;34m(\u001b[0m\u001b[0;34m\"copy\"\u001b[0m\u001b[0;34m,\u001b[0m \u001b[0maxes\u001b[0m\u001b[0;34m=\u001b[0m\u001b[0mnew_axes\u001b[0m\u001b[0;34m,\u001b[0m \u001b[0mdeep\u001b[0m\u001b[0;34m=\u001b[0m\u001b[0mdeep\u001b[0m\u001b[0;34m,\u001b[0m \u001b[0mdo_integrity_check\u001b[0m\u001b[0;34m=\u001b[0m\u001b[0;32mFalse\u001b[0m\u001b[0;34m)\u001b[0m\u001b[0;34m\u001b[0m\u001b[0;34m\u001b[0m\u001b[0m\n\u001b[0m\u001b[1;32m    788\u001b[0m \u001b[0;34m\u001b[0m\u001b[0m\n\u001b[1;32m    789\u001b[0m     \u001b[0;32mdef\u001b[0m \u001b[0mas_array\u001b[0m\u001b[0;34m(\u001b[0m\u001b[0mself\u001b[0m\u001b[0;34m,\u001b[0m \u001b[0mtranspose\u001b[0m\u001b[0;34m=\u001b[0m\u001b[0;32mFalse\u001b[0m\u001b[0;34m,\u001b[0m \u001b[0mitems\u001b[0m\u001b[0;34m=\u001b[0m\u001b[0;32mNone\u001b[0m\u001b[0;34m)\u001b[0m\u001b[0;34m:\u001b[0m\u001b[0;34m\u001b[0m\u001b[0;34m\u001b[0m\u001b[0m\n",
      "\u001b[0;32m~/anaconda3/envs/tf_gpu/lib/python3.6/site-packages/pandas/core/internals/managers.py\u001b[0m in \u001b[0;36mapply\u001b[0;34m(self, f, axes, filter, do_integrity_check, consolidate, **kwargs)\u001b[0m\n\u001b[1;32m    436\u001b[0m                     \u001b[0mkwargs\u001b[0m\u001b[0;34m[\u001b[0m\u001b[0mk\u001b[0m\u001b[0;34m]\u001b[0m \u001b[0;34m=\u001b[0m \u001b[0mobj\u001b[0m\u001b[0;34m.\u001b[0m\u001b[0mreindex\u001b[0m\u001b[0;34m(\u001b[0m\u001b[0mb_items\u001b[0m\u001b[0;34m,\u001b[0m \u001b[0maxis\u001b[0m\u001b[0;34m=\u001b[0m\u001b[0maxis\u001b[0m\u001b[0;34m,\u001b[0m \u001b[0mcopy\u001b[0m\u001b[0;34m=\u001b[0m\u001b[0malign_copy\u001b[0m\u001b[0;34m)\u001b[0m\u001b[0;34m\u001b[0m\u001b[0;34m\u001b[0m\u001b[0m\n\u001b[1;32m    437\u001b[0m \u001b[0;34m\u001b[0m\u001b[0m\n\u001b[0;32m--> 438\u001b[0;31m             \u001b[0mapplied\u001b[0m \u001b[0;34m=\u001b[0m \u001b[0mgetattr\u001b[0m\u001b[0;34m(\u001b[0m\u001b[0mb\u001b[0m\u001b[0;34m,\u001b[0m \u001b[0mf\u001b[0m\u001b[0;34m)\u001b[0m\u001b[0;34m(\u001b[0m\u001b[0;34m**\u001b[0m\u001b[0mkwargs\u001b[0m\u001b[0;34m)\u001b[0m\u001b[0;34m\u001b[0m\u001b[0;34m\u001b[0m\u001b[0m\n\u001b[0m\u001b[1;32m    439\u001b[0m             \u001b[0mresult_blocks\u001b[0m \u001b[0;34m=\u001b[0m \u001b[0m_extend_blocks\u001b[0m\u001b[0;34m(\u001b[0m\u001b[0mapplied\u001b[0m\u001b[0;34m,\u001b[0m \u001b[0mresult_blocks\u001b[0m\u001b[0;34m)\u001b[0m\u001b[0;34m\u001b[0m\u001b[0;34m\u001b[0m\u001b[0m\n\u001b[1;32m    440\u001b[0m \u001b[0;34m\u001b[0m\u001b[0m\n",
      "\u001b[0;32m~/anaconda3/envs/tf_gpu/lib/python3.6/site-packages/pandas/core/internals/blocks.py\u001b[0m in \u001b[0;36mcopy\u001b[0;34m(self, deep)\u001b[0m\n\u001b[1;32m    768\u001b[0m         \u001b[0mvalues\u001b[0m \u001b[0;34m=\u001b[0m \u001b[0mself\u001b[0m\u001b[0;34m.\u001b[0m\u001b[0mvalues\u001b[0m\u001b[0;34m\u001b[0m\u001b[0;34m\u001b[0m\u001b[0m\n\u001b[1;32m    769\u001b[0m         \u001b[0;32mif\u001b[0m \u001b[0mdeep\u001b[0m\u001b[0;34m:\u001b[0m\u001b[0;34m\u001b[0m\u001b[0;34m\u001b[0m\u001b[0m\n\u001b[0;32m--> 770\u001b[0;31m             \u001b[0mvalues\u001b[0m \u001b[0;34m=\u001b[0m \u001b[0mvalues\u001b[0m\u001b[0;34m.\u001b[0m\u001b[0mcopy\u001b[0m\u001b[0;34m(\u001b[0m\u001b[0;34m)\u001b[0m\u001b[0;34m\u001b[0m\u001b[0;34m\u001b[0m\u001b[0m\n\u001b[0m\u001b[1;32m    771\u001b[0m         \u001b[0;32mreturn\u001b[0m \u001b[0mself\u001b[0m\u001b[0;34m.\u001b[0m\u001b[0mmake_block_same_class\u001b[0m\u001b[0;34m(\u001b[0m\u001b[0mvalues\u001b[0m\u001b[0;34m,\u001b[0m \u001b[0mndim\u001b[0m\u001b[0;34m=\u001b[0m\u001b[0mself\u001b[0m\u001b[0;34m.\u001b[0m\u001b[0mndim\u001b[0m\u001b[0;34m)\u001b[0m\u001b[0;34m\u001b[0m\u001b[0;34m\u001b[0m\u001b[0m\n\u001b[1;32m    772\u001b[0m \u001b[0;34m\u001b[0m\u001b[0m\n",
      "\u001b[0;31mMemoryError\u001b[0m: "
     ]
    }
   ],
   "source": [
    "flight_data = pd.read_csv(\"../../samples_with_jfk_landing_flag.csv\")\n",
    "flight_data = flight_data.sort_values(by = ['id', 'ts']).reset_index(drop = True)\n",
    "# flight_data['jfk_landing_flag'] = (flight_data['jfk_landing_flag'] & (flight_data['destination'] == 'JFK'))\n",
    "flight_data['lon'] = flight_data['lon'].clip(-78, -68)\n",
    "flight_data['lat'] = flight_data['lat'].clip(35, 45)\n",
    "flight_data['altitude'] = flight_data['altitude'].clip(0, 50000)\n",
    "conversion_x = 9.26/((flight_data['lat'] * math.pi / 180).apply(math.cos) * 111.699)\n",
    "conversion_y = 9.26/111.699\n",
    "conversion_z = 500\n",
    "flight_data['x'] = ((flight_data['lon'] + 78)/conversion_x).apply(np.ceil).apply(int)\n",
    "flight_data['y'] = ((flight_data['lat'] - 35)/conversion_y).apply(np.ceil).apply(int)\n",
    "flight_data['z'] = ((flight_data['altitude']) / conversion_z).apply(np.ceil).apply(int)"
   ]
  },
  {
   "cell_type": "code",
   "execution_count": null,
   "metadata": {},
   "outputs": [],
   "source": [
    "print(flight_data['x'].max())\n",
    "print(flight_data['x'].min())\n",
    "print(flight_data['y'].max())\n",
    "print(flight_data['y'].min())\n",
    "print(flight_data['z'].max())\n",
    "print(flight_data['z'].min())"
   ]
  },
  {
   "cell_type": "code",
   "execution_count": null,
   "metadata": {},
   "outputs": [],
   "source": [
    "start_pos_df = flight_data.groupby(['id']).first().apply(lambda x: (x['x'], x['y'], x['z']), axis = 1).reset_index(drop = False)\n",
    "start_pos_df.columns = ['id', 'start_pos']\n",
    "flight_data = flight_data.merge(start_pos_df)\n",
    "flight_data = flight_data.sort_values(['id', 'ts']).reset_index(drop = True)\n",
    "flight_data.head()"
   ]
  },
  {
   "cell_type": "code",
   "execution_count": null,
   "metadata": {},
   "outputs": [],
   "source": [
    "flight_data = flight_data.sort_values(['id', 'ts']).reset_index(drop = True)"
   ]
  },
  {
   "cell_type": "code",
   "execution_count": null,
   "metadata": {},
   "outputs": [],
   "source": [
    "if not(os.path.isfile(\"transitions1_start_xyz.pkl\")):\n",
    "    transitions1_start_xyz = {}\n",
    "    delta_start_ts1 = {}\n",
    "    condition = True\n",
    "    previous_id = ''\n",
    "    flight_data1 = flight_data\n",
    "    flight_data1['last_ts'] = flight_data1[['id', 'ts']].set_index(\"id\").groupby(level = \"id\").shift(1).reset_index(drop = True)\n",
    "    flight_data1['last_x'] = flight_data1[['id', 'x']].set_index(\"id\").groupby(level = \"id\").shift(1).reset_index(drop = True)\n",
    "    flight_data1['last_y'] = flight_data1[['id', 'y']].set_index(\"id\").groupby(level = \"id\").shift(1).reset_index(drop = True)\n",
    "    flight_data1['last_z'] = flight_data1[['id', 'z']].set_index(\"id\").groupby(level = \"id\").shift(1).reset_index(drop = True)\n",
    "    flight_data1['last_lon'] = flight_data1[['id', 'lon']].set_index(\"id\").groupby(level = \"id\").shift(1).reset_index(drop = True)\n",
    "    flight_data1['last_lat'] = flight_data1[['id', 'lat']].set_index(\"id\").groupby(level = \"id\").shift(1).reset_index(drop = True)\n",
    "    flight_data1['last_climb_rate'] = flight_data1[['id', 'climb_rate']].set_index(\"id\").groupby(level = \"id\").shift(1).reset_index(drop = True)\n",
    "    flight_data1['last_altitude'] = flight_data1[['id', 'altitude']].set_index(\"id\").groupby(level = \"id\").shift(1).reset_index(drop = True)\n",
    "    flight_data1 = flight_data1[~flight_data1['last_ts'].apply(np.isnan)]\n",
    "    flight_data1 = flight_data1.sort_values(['id', 'ts']).reset_index(drop = True)\n",
    "    flight_data1 = flight_data1[(flight_data1['last_x'] != flight_data1['x']) |\n",
    "                              (flight_data1['last_y'] != flight_data1['y']) |\n",
    "                              (flight_data1['last_z'] != flight_data1['z'])]\n",
    "    flight_data1 = flight_data1.sort_values(['id', 'ts']).reset_index(drop = True)\n",
    "    flight_data1['last_x'] = flight_data1['last_x'].apply(int)\n",
    "    flight_data1['last_y'] = flight_data1['last_y'].apply(int)\n",
    "    flight_data1['last_z'] = flight_data1['last_z'].apply(int)\n",
    "    \n",
    "    unit_time = 5\n",
    "    start_df = flight_data1[['id', 'last_ts', 'last_lon', 'last_lat', 'last_altitude']].groupby(['id']).first().reset_index(drop = False)\n",
    "    start_df.columns = ['id', 'start_ts', 'start_lon', 'start_lat', 'start_altitude']\n",
    "    flight_data1 = flight_data1.merge(start_df)\n",
    "    flight_data1 = flight_data1.sort_values(['id', 'ts']).reset_index(drop = True)\n",
    "    flight_data1['t'] = ((flight_data1['ts'] - flight_data1['start_ts'])/unit_time).apply(np.ceil).apply(int)\n",
    "    flight_data1['last_t'] = ((flight_data1['last_ts'] - flight_data1['start_ts'])/unit_time).apply(np.ceil).apply(int)\n",
    "    \n",
    "    # Retaining only aircraft IDs with destination == \"JFK\" in all rows\n",
    "    df1 = flight_data[flight_data['jfk_landing_flag']]\n",
    "    df1 = df1.sort_values(['id', 'ts']).reset_index(drop = True)\n",
    "    df1 = df1.groupby(['id']).apply(lambda x: (x['destination'] == \"JFK\").mean()).reset_index(drop = False)\n",
    "    df1 = df1[['id']][df1[0] == 1.0]\n",
    "    landing_ac_data = df1.merge(flight_data1)\n",
    "    landing_ac_data.sort_values(['id', 'ts']).reset_index(drop = True)\n",
    "    \n",
    "    # Retaining only IDs that have successfully landed at JFK (small range)\n",
    "    last_df = landing_ac_data.groupby(['id']).last().reset_index(drop = False)\n",
    "    last_df['coords'] = last_df.apply(lambda x: (x['x'], x['y'], x['z']), axis = 1)\n",
    "    last_df = last_df[last_df['coords'].apply(lambda x: x[2] <= 3)]\n",
    "    print(last_df['coords'].value_counts())\n",
    "    landing_ac_data = landing_ac_data.merge(last_df[['id']])\n",
    "    landing_ac_data = landing_ac_data.sort_values(['id', 'ts']).reset_index(drop = True)\n",
    "    landed_xyz = set(last_df['coords'])\n",
    "    print(landed_xyz)\n",
    "    \n",
    "    for i in range(landing_ac_data.shape[0]):\n",
    "        id1 = landing_ac_data['id'].iloc[i]\n",
    "        start_pos = landing_ac_data['start_pos'].iloc[i]\n",
    "        last_x = landing_ac_data['last_x'].iloc[i]\n",
    "        last_y = landing_ac_data['last_y'].iloc[i]\n",
    "        last_z = landing_ac_data['last_z'].iloc[i]\n",
    "        last_ts = landing_ac_data['last_ts'].iloc[i]\n",
    "        x = landing_ac_data['x'].iloc[i]\n",
    "        y = landing_ac_data['y'].iloc[i]\n",
    "        z = landing_ac_data['z'].iloc[i]\n",
    "        ts = landing_ac_data['ts'].iloc[i]\n",
    "        condition = (previous_id != id1)\n",
    "        if (not((last_x, last_y, last_z) in landed_xyz) and condition):\n",
    "            last_row = True\n",
    "            try:\n",
    "                transitions1_start_xyz[(start_pos, (last_x, last_y, last_z))][(start_pos, (x, y, z))] += 1\n",
    "                delta_start_ts1[(start_pos, (last_x, last_y, last_z))][(start_pos, (x, y, z))] += [ts - last_ts]\n",
    "            except:\n",
    "                try:\n",
    "                    transitions1_start_xyz[(start_pos, (last_x, last_y, last_z))][(start_pos, (x, y, z))] = 1\n",
    "                    delta_start_ts1[(start_pos, (last_x, last_y, last_z))][(start_pos, (x, y, z))] = [ts - last_ts]\n",
    "                except:\n",
    "                    transitions1_start_xyz[(start_pos, (last_x, last_y, last_z))] = {(start_pos, (x, y, z)): 1}\n",
    "                    delta_start_ts1[(start_pos, (last_x, last_y, last_z))] = {(start_pos, (x, y, z)): [ts - last_ts]}\n",
    "        elif last_row:\n",
    "            previous_id = id1\n",
    "            last_row = False\n",
    "            try:\n",
    "                transitions1_start_xyz[(start_pos, (last_x, last_y, last_z))][(start_pos, (x, y, z))] += 1\n",
    "                delta_start_ts1[(start_pos, (last_x, last_y, last_z))][(start_pos, (x, y, z))] += [ts - last_ts]\n",
    "            except:\n",
    "                try:\n",
    "                    transitions1_start_xyz[(start_pos, (last_x, last_y, last_z))][(start_pos, (x, y, z))] = 1\n",
    "                    delta_start_ts1[(start_pos, (last_x, last_y, last_z))][(start_pos, (x, y, z))] = [ts - last_ts]\n",
    "                except:\n",
    "                    transitions1_start_xyz[(start_pos, (last_x, last_y, last_z))] = {(start_pos, (x, y, z)): 1}\n",
    "                    delta_start_ts1[(start_pos, (last_x, last_y, last_z))] = {(start_pos, (x, y, z)): [ts - last_ts]}\n",
    "        else:\n",
    "            print(previous_id)\n",
    "    \n",
    "    pickle.dump(delta_start_ts1, open(\"delta_ts1_start.pkl\", \"wb\"))\n",
    "    pickle.dump(transitions1_start_xyz, open(\"transitions1_start_xyz.pkl\", \"wb\"))\n",
    "    pickle.dump(landed_xyz, open(\"landed_start_xyz.pkl\", \"wb\"))\n",
    "else:\n",
    "    transitions1_start_xyz = pickle.load(open(\"transitions1_start_xyz.pkl\", \"rb\"))\n",
    "    delta_start_ts1 = pickle.load(open(\"delta_ts1_start.pkl\", \"rb\"))\n",
    "    landed_xyz = pickle.load(open(\"landed_start_xyz.pkl\", \"rb\"))"
   ]
  },
  {
   "cell_type": "code",
   "execution_count": null,
   "metadata": {},
   "outputs": [],
   "source": [
    "if not(os.path.isfile(\"transitions2_start_xyz.pkl\")):\n",
    "    flight_data2 = flight_data1\n",
    "    flight_data2['last_last_ts'] = flight_data2[['id', 'last_ts']].set_index(\"id\").groupby(level = \"id\").shift(1).reset_index(drop = True)\n",
    "    flight_data2['last_last_x'] = flight_data2[['id', 'last_x']].set_index(\"id\").groupby(level = \"id\").shift(1).reset_index(drop = True)\n",
    "    flight_data2['last_last_y'] = flight_data2[['id', 'last_y']].set_index(\"id\").groupby(level = \"id\").shift(1).reset_index(drop = True)\n",
    "    flight_data2['last_last_z'] = flight_data2[['id', 'last_z']].set_index(\"id\").groupby(level = \"id\").shift(1).reset_index(drop = True)\n",
    "    flight_data2['last_last_lon'] = flight_data2[['id', 'last_lon']].set_index(\"id\").groupby(level = \"id\").shift(1).reset_index(drop = True)\n",
    "    flight_data2['last_last_lat'] = flight_data2[['id', 'last_lat']].set_index(\"id\").groupby(level = \"id\").shift(1).reset_index(drop = True)\n",
    "    flight_data2['last_last_altitude'] = flight_data2[['id', 'last_altitude']].set_index(\"id\").groupby(level = \"id\").shift(1).reset_index(drop = True)\n",
    "    flight_data2['last_last_climb_rate'] = flight_data2[['id', 'last_climb_rate']].set_index(\"id\").groupby(level = \"id\").shift(1).reset_index(drop = True)\n",
    "    flight_data2 = flight_data2[~flight_data2['last_last_ts'].apply(np.isnan)]\n",
    "    flight_data2 = flight_data2.sort_values(['id', 'ts']).reset_index(drop = True)\n",
    "    flight_data2['last_last_x'] = flight_data2['last_last_x'].apply(int)\n",
    "    flight_data2['last_last_y'] = flight_data2['last_last_y'].apply(int)\n",
    "    flight_data2['last_last_z'] = flight_data2['last_last_z'].apply(int)\n",
    "    flight_data2['last_last_t'] = ((flight_data2['last_last_ts'] - flight_data2['start_ts'])/unit_time).apply(np.ceil).apply(int)\n",
    "\n",
    "    landing_ac_data2 = df1.merge(flight_data2[flight_data2['jfk_landing_flag']])\n",
    "    landing_ac_data2 = landing_ac_data2.sort_values(['id', 'ts']).reset_index(drop = True)\n",
    "    landing_ac_data2.shape\n",
    "    transitions2_start_xyz = {}\n",
    "    delta_start_ts2 = {}\n",
    "    previous_id = ''\n",
    "    for i in range(landing_ac_data2.shape[0]):\n",
    "        last_last_x = landing_ac_data2['last_last_x'].iloc[i]\n",
    "        last_last_y = landing_ac_data2['last_last_y'].iloc[i]\n",
    "        last_last_z = landing_ac_data2['last_last_z'].iloc[i]\n",
    "        last_last_ts = landing_ac_data2['last_last_ts'].iloc[i]\n",
    "        last_x = landing_ac_data2['last_x'].iloc[i]\n",
    "        last_y = landing_ac_data2['last_y'].iloc[i]\n",
    "        last_z = landing_ac_data2['last_z'].iloc[i]\n",
    "        last_ts = landing_ac_data2['last_ts'].iloc[i]\n",
    "        id1 = landing_ac_data2['id'].iloc[i]\n",
    "        start_pos = landing_ac_data2['start_pos'].iloc[i]\n",
    "        x = landing_ac_data2['x'].iloc[i]\n",
    "        y = landing_ac_data2['y'].iloc[i]\n",
    "        z = landing_ac_data2['z'].iloc[i]\n",
    "        ts = landing_ac_data2['ts'].iloc[i]\n",
    "        condition = (previous_id != id1)\n",
    "        if not((x, y, z) in landed_xyz) and condition:\n",
    "            last_row = True\n",
    "            try:\n",
    "                transitions2_start_xyz[(start_pos, (last_last_x, last_last_y, last_last_z), (last_x, last_y, last_z))][(start_pos, (x, y, z))] += 1\n",
    "                delta_start_ts2[(start_pos, (last_last_x, last_last_y, last_last_z), (last_x, last_y, last_z))][(start_pos, (x, y, z))] += [ts - last_ts]\n",
    "            except:\n",
    "                try:\n",
    "                    transitions2_start_xyz[(start_pos, (last_last_x, last_last_y, last_last_z), (last_x, last_y, last_z))][(start_pos, (x, y, z))] = 1\n",
    "                    delta_start_ts2[(start_pos, (last_last_x, last_last_y, last_last_z), (last_x, last_y, last_z))][(start_pos, (x, y, z))] = [ts - last_ts]\n",
    "                except:\n",
    "                    transitions2_start_xyz[(start_pos, (last_last_x, last_last_y, last_last_z), (last_x, last_y, last_z))] = {(start_pos, (x, y, z)): 1}\n",
    "                    delta_start_ts2[(start_pos, (last_last_x, last_last_y, last_last_z), (last_x, last_y, last_z))] = {(start_pos, (x, y, z)): [ts - last_ts]}\n",
    "        elif last_row:\n",
    "            previous_id = id1\n",
    "            last_row = False\n",
    "            try:\n",
    "                transitions2_start_xyz[(start_pos, (last_last_x, last_last_y, last_last_z), (last_x, last_y, last_z))][(start_pos, (x, y, z))] += 1\n",
    "                delta_start_ts2[(start_pos, (last_last_x, last_last_y, last_last_z), (last_x, last_y, last_z))][(start_pos, (x, y, z))] += [ts - last_ts]\n",
    "            except:\n",
    "                try:\n",
    "                    transitions2_start_xyz[(start_pos, (last_last_x, last_last_y, last_last_z), (last_x, last_y, last_z))][(start_pos, (x, y, z))] = 1\n",
    "                    delta_start_ts2[(start_pos, (last_last_x, last_last_y, last_last_z), (last_x, last_y, last_z))][(start_pos, (x, y, z))] = [ts - last_ts]\n",
    "                except:\n",
    "                    transitions2_start_xyz[(start_pos, (last_last_x, last_last_y, last_last_z), (last_x, last_y, last_z))] = {(start_pos, (x, y, z)): 1}\n",
    "                    delta_start_ts2[(start_pos, (last_last_x, last_last_y, last_last_z), (last_x, last_y, last_z))] = {(start_pos, (x, y, z)): [ts - last_ts]}\n",
    "        else:\n",
    "            print(previous_id)\n",
    "    \n",
    "    pickle.dump(transitions2_start_xyz, open(\"transitions2_start_xyz.pkl\", \"wb\"))\n",
    "    pickle.dump(delta_start_ts2, open(\"delta_ts2_start.pkl\", \"wb\"))\n",
    "else:\n",
    "    transitions2_start_xyz = pickle.load(open(\"transitions2_start_xyz.pkl\", \"rb\"))\n",
    "    delta_start_ts2 = pickle.load(open(\"delta_ts2_start.pkl\", \"rb\"))"
   ]
  },
  {
   "cell_type": "code",
   "execution_count": 8,
   "metadata": {},
   "outputs": [
    {
     "data": {
      "text/plain": [
       "81"
      ]
     },
     "execution_count": 8,
     "metadata": {},
     "output_type": "execute_result"
    }
   ],
   "source": [
    "lis1 = [transitions2_start_xyz[key].values() for key in transitions2_start_xyz.keys()]\n",
    "lis2 = unlist(lis1)\n",
    "max(lis2)"
   ]
  },
  {
   "cell_type": "code",
   "execution_count": 9,
   "metadata": {},
   "outputs": [
    {
     "name": "stdout",
     "output_type": "stream",
     "text": [
      "(44023466, 25)\n",
      "(44023466, 27)\n"
     ]
    }
   ],
   "source": [
    "print(flight_data.shape)\n",
    "start_df = flight_data[['id', 'ts']].groupby(['id']).first().reset_index(drop = False)\n",
    "end_df = flight_data[['id', 'ts']].groupby(['id']).last().reset_index(drop = False)\n",
    "start_df.columns = ['id', 'id_start_ts']\n",
    "end_df.columns = ['id', 'id_end_ts']\n",
    "flight_data = flight_data.merge(start_df)\n",
    "flight_data = flight_data.merge(end_df)\n",
    "flight_data = flight_data.sort_values(['id', 'ts']).reset_index(drop = True)\n",
    "print(flight_data.shape)"
   ]
  },
  {
   "cell_type": "code",
   "execution_count": 10,
   "metadata": {},
   "outputs": [
    {
     "name": "stdout",
     "output_type": "stream",
     "text": [
      "(39, 68, 0)    3881\n",
      "(39, 69, 0)    2950\n",
      "(40, 68, 0)       2\n",
      "(40, 69, 0)       1\n",
      "Name: coords, dtype: int64\n"
     ]
    }
   ],
   "source": [
    "df1 = flight_data[flight_data['jfk_landing_flag']]\n",
    "df1 = df1.sort_values(['id', 'ts']).reset_index(drop = True)\n",
    "df1 = df1.groupby(['id']).apply(lambda x: (x['destination'] == \"JFK\").mean()).reset_index(drop = False)\n",
    "df1 = df1[['id']][df1[0] == 1.0]\n",
    "landing_ac_data = df1.merge(flight_data)\n",
    "landing_ac_data.sort_values(['id', 'ts']).reset_index(drop = True)\n",
    "\n",
    "# Retaining only IDs that have successfully landed at JFK (small range)\n",
    "last_df = landing_ac_data.groupby(['id']).last().reset_index(drop = False)\n",
    "last_df['coords'] = last_df.apply(lambda x: (x['x'], x['y'], x['z']), axis = 1)\n",
    "last_df = last_df[last_df['coords'].apply(lambda x: x[2] <= 3)]\n",
    "print(last_df['coords'].value_counts())\n",
    "landing_ac_data = landing_ac_data.merge(last_df[['id']])\n",
    "landing_ac_data = landing_ac_data.sort_values(['id', 'ts']).reset_index(drop = True)"
   ]
  },
  {
   "cell_type": "code",
   "execution_count": 11,
   "metadata": {},
   "outputs": [
    {
     "data": {
      "text/plain": [
       "id                    A033AE_47\n",
       "aircraft                 A033AE\n",
       "lat                      36.006\n",
       "lon                         -78\n",
       "ts                   1560657958\n",
       "altitude                  37000\n",
       "climb_rate                  192\n",
       "azimuth                      58\n",
       "ground_speed                458\n",
       "jfk_landing_flag           True\n",
       "source                      LAX\n",
       "destination                 JFK\n",
       "ground_flag                   0\n",
       "x                             0\n",
       "y                            13\n",
       "z                            74\n",
       "start_pos           (0, 13, 74)\n",
       "last_ts                     NaN\n",
       "last_x                      NaN\n",
       "last_y                      NaN\n",
       "last_z                      NaN\n",
       "last_lon                    NaN\n",
       "last_lat                    NaN\n",
       "last_climb_rate             NaN\n",
       "last_altitude               NaN\n",
       "id_start_ts          1560657958\n",
       "id_end_ts            1560661589\n",
       "Name: 0, dtype: object"
      ]
     },
     "execution_count": 11,
     "metadata": {},
     "output_type": "execute_result"
    }
   ],
   "source": [
    "# Simulating landing of 1 aircraft\n",
    "# uniq_id = landing_ac_data['id'].unique()\n",
    "# i = random.randint(a = 0, b = len(uniq_id) - 1)\n",
    "# chosen_id = uniq_id[i]\n",
    "chosen_id = \"A033AE_47\"\n",
    "df = flight_data[flight_data['id'] == chosen_id].sort_values(['id', 'ts']).reset_index(drop = True).iloc[0]\n",
    "start_point = (df['x'], df['y'], df['z'])\n",
    "df"
   ]
  },
  {
   "cell_type": "code",
   "execution_count": 12,
   "metadata": {},
   "outputs": [],
   "source": [
    "total_times = []\n",
    "paths = []\n",
    "max_landings = 10\n",
    "landings = 0\n",
    "\n",
    "def simulate_landing(df):\n",
    "    landed = False\n",
    "    total_time = 0\n",
    "    path = []\n",
    "    while not landed:\n",
    "        path.append((df['x'], df['y'], df['z']))\n",
    "        ts1 = df['ts']\n",
    "#         print(ts1)\n",
    "        # We will not be able to know the complete duration of chosen aircraft before it actually lands\n",
    "        temp_flight_data = flight_data[(flight_data['id_start_ts'] <= ts1) &\n",
    "                                       (flight_data['id_end_ts'] >= ts1) &\n",
    "                                       (flight_data['id'] != chosen_id)]\n",
    "        last_known_df = temp_flight_data[temp_flight_data['ts'] <= ts1].reset_index(drop = True).groupby(['id']).last().reset_index(drop = False)\n",
    "        last_known_df = last_known_df[(last_known_df['altitude'] > 0) | (last_known_df['climb_rate'] != 0)].reset_index(drop = True)\n",
    "        current_df = last_known_df.apply(lambda x: get_current_pos(x, ts1), axis = 1)\n",
    "#         current_df = current_df[]\n",
    "        current_pos = current_df.apply(get_xyz)\n",
    "        current_pos = current_pos[current_pos.apply(isinrange)]\n",
    "        if total_time == 0:\n",
    "            actions = transitions1_start_xyz[(start_point, (df['x'], df['y'], df['z']))]\n",
    "            temp_delta_ts = delta_start_ts1[(start_point, (df['x'], df['y'], df['z']))]\n",
    "        else:\n",
    "            actions = transitions2_start_xyz[(start_point, previous_state, (df['x'], df['y'], df['z']))]\n",
    "            temp_delta_ts = delta_start_ts2[(start_point, previous_state, (df['x'], df['y'], df['z']))]\n",
    "        next_xyzs = [repeat(key, actions[key]) for key in actions.keys()]\n",
    "        next_xyzs = unlist(next_xyzs)\n",
    "        conflict = True\n",
    "        tries = 0\n",
    "        # This should probably change to greedy selection\n",
    "        while conflict:\n",
    "            j = random.randint(a = 0, b = len(next_xyzs) - 1)\n",
    "            next_xyz = next_xyzs[j]\n",
    "            all_delta_ts = temp_delta_ts[next_xyz]\n",
    "            # This should probably change to greedy selection\n",
    "            j = random.randint(a = 0, b = len(all_delta_ts) - 1)\n",
    "            temp_delta_ts = all_delta_ts[j]\n",
    "            df['ts'] = df['ts'] + temp_delta_ts\n",
    "            previous_state = (df['x'], df['y'], df['z'])\n",
    "            total_time += temp_delta_ts\n",
    "            conflict = any(current_pos.apply(lambda x: check_conflict(x, next_xyz[len(next_xyz) - 1])))\n",
    "            tries += 1\n",
    "            if tries > 10:\n",
    "                print(\"Conflict unlikely to be avoided at \" + str((df['x'], df['y'], df['z'])))\n",
    "        \n",
    "        df['x'] = next_xyz[len(next_xyz) - 1][0]\n",
    "        df['y'] = next_xyz[len(next_xyz) - 1][1]\n",
    "        df['z'] = next_xyz[len(next_xyz) - 1][2]\n",
    "        \n",
    "        landed = (df['x'], df['y'], df['z']) in landed_xyz\n",
    "    return [path, total_time]\n",
    "\n",
    "def simulate_landing_i(i):\n",
    "    return simulate_landing(df)"
   ]
  },
  {
   "cell_type": "code",
   "execution_count": null,
   "metadata": {},
   "outputs": [],
   "source": [
    "# cores = max_landings\n",
    "# p = mp.Pool(processes = cores)\n",
    "# split_dfs = np.array_split([i for i in range(cores)], cores)\n",
    "# pool_results = p.map(simulate_landing_i, split_dfs)\n",
    "# p.close()\n",
    "# p.join()"
   ]
  },
  {
   "cell_type": "code",
   "execution_count": null,
   "metadata": {},
   "outputs": [],
   "source": [
    "# p.close()\n",
    "# p.join()"
   ]
  },
  {
   "cell_type": "code",
   "execution_count": 18,
   "metadata": {},
   "outputs": [],
   "source": [
    "y_max = flight_data['y'].max()\n",
    "x_max = flight_data['x'].max()"
   ]
  },
  {
   "cell_type": "code",
   "execution_count": 33,
   "metadata": {
    "scrolled": true
   },
   "outputs": [
    {
     "ename": "TypeError",
     "evalue": "(\"unsupported operand type(s) for +: 'float' and 'dict'\", 'occurred at index 0')",
     "output_type": "error",
     "traceback": [
      "\u001b[0;31m---------------------------------------------------------------------------\u001b[0m",
      "\u001b[0;31mTypeError\u001b[0m                                 Traceback (most recent call last)",
      "\u001b[0;32m<ipython-input-33-ccee0bb83cb3>\u001b[0m in \u001b[0;36m<module>\u001b[0;34m\u001b[0m\n\u001b[1;32m     35\u001b[0m \u001b[0;31m#         temp_delta_ts = all_delta_ts[j]\u001b[0m\u001b[0;34m\u001b[0m\u001b[0;34m\u001b[0m\u001b[0;34m\u001b[0m\u001b[0m\n\u001b[1;32m     36\u001b[0m         \u001b[0mnext_xyz\u001b[0m \u001b[0;34m=\u001b[0m \u001b[0msorted\u001b[0m\u001b[0;34m(\u001b[0m\u001b[0mactions\u001b[0m\u001b[0;34m.\u001b[0m\u001b[0mitems\u001b[0m\u001b[0;34m(\u001b[0m\u001b[0;34m)\u001b[0m\u001b[0;34m,\u001b[0m \u001b[0mkey\u001b[0m \u001b[0;34m=\u001b[0m \u001b[0;32mlambda\u001b[0m \u001b[0mkv\u001b[0m\u001b[0;34m:\u001b[0m\u001b[0;34m(\u001b[0m\u001b[0mkv\u001b[0m\u001b[0;34m[\u001b[0m\u001b[0;36m1\u001b[0m\u001b[0;34m]\u001b[0m\u001b[0;34m,\u001b[0m \u001b[0mkv\u001b[0m\u001b[0;34m[\u001b[0m\u001b[0;36m0\u001b[0m\u001b[0;34m]\u001b[0m\u001b[0;34m)\u001b[0m\u001b[0;34m)\u001b[0m\u001b[0;34m\u001b[0m\u001b[0;34m\u001b[0m\u001b[0m\n\u001b[0;32m---> 37\u001b[0;31m         \u001b[0mfuture_df\u001b[0m \u001b[0;34m=\u001b[0m \u001b[0mlast_known_df\u001b[0m\u001b[0;34m.\u001b[0m\u001b[0mapply\u001b[0m\u001b[0;34m(\u001b[0m\u001b[0;32mlambda\u001b[0m \u001b[0mx\u001b[0m\u001b[0;34m:\u001b[0m \u001b[0mget_current_pos\u001b[0m\u001b[0;34m(\u001b[0m\u001b[0mx\u001b[0m\u001b[0;34m,\u001b[0m \u001b[0mts1\u001b[0m \u001b[0;34m+\u001b[0m \u001b[0mtemp_delta_ts\u001b[0m\u001b[0;34m)\u001b[0m\u001b[0;34m,\u001b[0m \u001b[0maxis\u001b[0m \u001b[0;34m=\u001b[0m \u001b[0;36m1\u001b[0m\u001b[0;34m)\u001b[0m\u001b[0;34m\u001b[0m\u001b[0;34m\u001b[0m\u001b[0m\n\u001b[0m\u001b[1;32m     38\u001b[0m         \u001b[0mfuture_pos\u001b[0m \u001b[0;34m=\u001b[0m \u001b[0mfuture_df\u001b[0m\u001b[0;34m.\u001b[0m\u001b[0mapply\u001b[0m\u001b[0;34m(\u001b[0m\u001b[0mget_xyz\u001b[0m\u001b[0;34m)\u001b[0m\u001b[0;34m\u001b[0m\u001b[0;34m\u001b[0m\u001b[0m\n\u001b[1;32m     39\u001b[0m         \u001b[0mfuture_pos\u001b[0m \u001b[0;34m=\u001b[0m \u001b[0mfuture_pos\u001b[0m\u001b[0;34m[\u001b[0m\u001b[0mfuture_pos\u001b[0m\u001b[0;34m.\u001b[0m\u001b[0mapply\u001b[0m\u001b[0;34m(\u001b[0m\u001b[0;32mlambda\u001b[0m \u001b[0mx\u001b[0m\u001b[0;34m:\u001b[0m \u001b[0misinrange\u001b[0m\u001b[0;34m(\u001b[0m\u001b[0mx\u001b[0m\u001b[0;34m,\u001b[0m \u001b[0mlat_len\u001b[0m \u001b[0;34m=\u001b[0m \u001b[0my_max\u001b[0m\u001b[0;34m,\u001b[0m \u001b[0mlon_len\u001b[0m \u001b[0;34m=\u001b[0m \u001b[0mx_max\u001b[0m\u001b[0;34m,\u001b[0m \u001b[0malt_len\u001b[0m \u001b[0;34m=\u001b[0m \u001b[0;36m100\u001b[0m\u001b[0;34m)\u001b[0m\u001b[0;34m)\u001b[0m\u001b[0;34m]\u001b[0m\u001b[0;34m\u001b[0m\u001b[0;34m\u001b[0m\u001b[0m\n",
      "\u001b[0;32m~/anaconda3/envs/tf/lib/python3.7/site-packages/pandas-0.24.2-py3.7-linux-x86_64.egg/pandas/core/frame.py\u001b[0m in \u001b[0;36mapply\u001b[0;34m(self, func, axis, broadcast, raw, reduce, result_type, args, **kwds)\u001b[0m\n\u001b[1;32m   6485\u001b[0m                          \u001b[0margs\u001b[0m\u001b[0;34m=\u001b[0m\u001b[0margs\u001b[0m\u001b[0;34m,\u001b[0m\u001b[0;34m\u001b[0m\u001b[0;34m\u001b[0m\u001b[0m\n\u001b[1;32m   6486\u001b[0m                          kwds=kwds)\n\u001b[0;32m-> 6487\u001b[0;31m         \u001b[0;32mreturn\u001b[0m \u001b[0mop\u001b[0m\u001b[0;34m.\u001b[0m\u001b[0mget_result\u001b[0m\u001b[0;34m(\u001b[0m\u001b[0;34m)\u001b[0m\u001b[0;34m\u001b[0m\u001b[0;34m\u001b[0m\u001b[0m\n\u001b[0m\u001b[1;32m   6488\u001b[0m \u001b[0;34m\u001b[0m\u001b[0m\n\u001b[1;32m   6489\u001b[0m     \u001b[0;32mdef\u001b[0m \u001b[0mapplymap\u001b[0m\u001b[0;34m(\u001b[0m\u001b[0mself\u001b[0m\u001b[0;34m,\u001b[0m \u001b[0mfunc\u001b[0m\u001b[0;34m)\u001b[0m\u001b[0;34m:\u001b[0m\u001b[0;34m\u001b[0m\u001b[0;34m\u001b[0m\u001b[0m\n",
      "\u001b[0;32m~/anaconda3/envs/tf/lib/python3.7/site-packages/pandas-0.24.2-py3.7-linux-x86_64.egg/pandas/core/apply.py\u001b[0m in \u001b[0;36mget_result\u001b[0;34m(self)\u001b[0m\n\u001b[1;32m    149\u001b[0m             \u001b[0;32mreturn\u001b[0m \u001b[0mself\u001b[0m\u001b[0;34m.\u001b[0m\u001b[0mapply_raw\u001b[0m\u001b[0;34m(\u001b[0m\u001b[0;34m)\u001b[0m\u001b[0;34m\u001b[0m\u001b[0;34m\u001b[0m\u001b[0m\n\u001b[1;32m    150\u001b[0m \u001b[0;34m\u001b[0m\u001b[0m\n\u001b[0;32m--> 151\u001b[0;31m         \u001b[0;32mreturn\u001b[0m \u001b[0mself\u001b[0m\u001b[0;34m.\u001b[0m\u001b[0mapply_standard\u001b[0m\u001b[0;34m(\u001b[0m\u001b[0;34m)\u001b[0m\u001b[0;34m\u001b[0m\u001b[0;34m\u001b[0m\u001b[0m\n\u001b[0m\u001b[1;32m    152\u001b[0m \u001b[0;34m\u001b[0m\u001b[0m\n\u001b[1;32m    153\u001b[0m     \u001b[0;32mdef\u001b[0m \u001b[0mapply_empty_result\u001b[0m\u001b[0;34m(\u001b[0m\u001b[0mself\u001b[0m\u001b[0;34m)\u001b[0m\u001b[0;34m:\u001b[0m\u001b[0;34m\u001b[0m\u001b[0;34m\u001b[0m\u001b[0m\n",
      "\u001b[0;32m~/anaconda3/envs/tf/lib/python3.7/site-packages/pandas-0.24.2-py3.7-linux-x86_64.egg/pandas/core/apply.py\u001b[0m in \u001b[0;36mapply_standard\u001b[0;34m(self)\u001b[0m\n\u001b[1;32m    255\u001b[0m \u001b[0;34m\u001b[0m\u001b[0m\n\u001b[1;32m    256\u001b[0m         \u001b[0;31m# compute the result using the series generator\u001b[0m\u001b[0;34m\u001b[0m\u001b[0;34m\u001b[0m\u001b[0;34m\u001b[0m\u001b[0m\n\u001b[0;32m--> 257\u001b[0;31m         \u001b[0mself\u001b[0m\u001b[0;34m.\u001b[0m\u001b[0mapply_series_generator\u001b[0m\u001b[0;34m(\u001b[0m\u001b[0;34m)\u001b[0m\u001b[0;34m\u001b[0m\u001b[0;34m\u001b[0m\u001b[0m\n\u001b[0m\u001b[1;32m    258\u001b[0m \u001b[0;34m\u001b[0m\u001b[0m\n\u001b[1;32m    259\u001b[0m         \u001b[0;31m# wrap results\u001b[0m\u001b[0;34m\u001b[0m\u001b[0;34m\u001b[0m\u001b[0;34m\u001b[0m\u001b[0m\n",
      "\u001b[0;32m~/anaconda3/envs/tf/lib/python3.7/site-packages/pandas-0.24.2-py3.7-linux-x86_64.egg/pandas/core/apply.py\u001b[0m in \u001b[0;36mapply_series_generator\u001b[0;34m(self)\u001b[0m\n\u001b[1;32m    284\u001b[0m             \u001b[0;32mtry\u001b[0m\u001b[0;34m:\u001b[0m\u001b[0;34m\u001b[0m\u001b[0;34m\u001b[0m\u001b[0m\n\u001b[1;32m    285\u001b[0m                 \u001b[0;32mfor\u001b[0m \u001b[0mi\u001b[0m\u001b[0;34m,\u001b[0m \u001b[0mv\u001b[0m \u001b[0;32min\u001b[0m \u001b[0menumerate\u001b[0m\u001b[0;34m(\u001b[0m\u001b[0mseries_gen\u001b[0m\u001b[0;34m)\u001b[0m\u001b[0;34m:\u001b[0m\u001b[0;34m\u001b[0m\u001b[0;34m\u001b[0m\u001b[0m\n\u001b[0;32m--> 286\u001b[0;31m                     \u001b[0mresults\u001b[0m\u001b[0;34m[\u001b[0m\u001b[0mi\u001b[0m\u001b[0;34m]\u001b[0m \u001b[0;34m=\u001b[0m \u001b[0mself\u001b[0m\u001b[0;34m.\u001b[0m\u001b[0mf\u001b[0m\u001b[0;34m(\u001b[0m\u001b[0mv\u001b[0m\u001b[0;34m)\u001b[0m\u001b[0;34m\u001b[0m\u001b[0;34m\u001b[0m\u001b[0m\n\u001b[0m\u001b[1;32m    287\u001b[0m                     \u001b[0mkeys\u001b[0m\u001b[0;34m.\u001b[0m\u001b[0mappend\u001b[0m\u001b[0;34m(\u001b[0m\u001b[0mv\u001b[0m\u001b[0;34m.\u001b[0m\u001b[0mname\u001b[0m\u001b[0;34m)\u001b[0m\u001b[0;34m\u001b[0m\u001b[0;34m\u001b[0m\u001b[0m\n\u001b[1;32m    288\u001b[0m             \u001b[0;32mexcept\u001b[0m \u001b[0mException\u001b[0m \u001b[0;32mas\u001b[0m \u001b[0me\u001b[0m\u001b[0;34m:\u001b[0m\u001b[0;34m\u001b[0m\u001b[0;34m\u001b[0m\u001b[0m\n",
      "\u001b[0;32m<ipython-input-33-ccee0bb83cb3>\u001b[0m in \u001b[0;36m<lambda>\u001b[0;34m(x)\u001b[0m\n\u001b[1;32m     35\u001b[0m \u001b[0;31m#         temp_delta_ts = all_delta_ts[j]\u001b[0m\u001b[0;34m\u001b[0m\u001b[0;34m\u001b[0m\u001b[0;34m\u001b[0m\u001b[0m\n\u001b[1;32m     36\u001b[0m         \u001b[0mnext_xyz\u001b[0m \u001b[0;34m=\u001b[0m \u001b[0msorted\u001b[0m\u001b[0;34m(\u001b[0m\u001b[0mactions\u001b[0m\u001b[0;34m.\u001b[0m\u001b[0mitems\u001b[0m\u001b[0;34m(\u001b[0m\u001b[0;34m)\u001b[0m\u001b[0;34m,\u001b[0m \u001b[0mkey\u001b[0m \u001b[0;34m=\u001b[0m \u001b[0;32mlambda\u001b[0m \u001b[0mkv\u001b[0m\u001b[0;34m:\u001b[0m\u001b[0;34m(\u001b[0m\u001b[0mkv\u001b[0m\u001b[0;34m[\u001b[0m\u001b[0;36m1\u001b[0m\u001b[0;34m]\u001b[0m\u001b[0;34m,\u001b[0m \u001b[0mkv\u001b[0m\u001b[0;34m[\u001b[0m\u001b[0;36m0\u001b[0m\u001b[0;34m]\u001b[0m\u001b[0;34m)\u001b[0m\u001b[0;34m)\u001b[0m\u001b[0;34m\u001b[0m\u001b[0;34m\u001b[0m\u001b[0m\n\u001b[0;32m---> 37\u001b[0;31m         \u001b[0mfuture_df\u001b[0m \u001b[0;34m=\u001b[0m \u001b[0mlast_known_df\u001b[0m\u001b[0;34m.\u001b[0m\u001b[0mapply\u001b[0m\u001b[0;34m(\u001b[0m\u001b[0;32mlambda\u001b[0m \u001b[0mx\u001b[0m\u001b[0;34m:\u001b[0m \u001b[0mget_current_pos\u001b[0m\u001b[0;34m(\u001b[0m\u001b[0mx\u001b[0m\u001b[0;34m,\u001b[0m \u001b[0mts1\u001b[0m \u001b[0;34m+\u001b[0m \u001b[0mtemp_delta_ts\u001b[0m\u001b[0;34m)\u001b[0m\u001b[0;34m,\u001b[0m \u001b[0maxis\u001b[0m \u001b[0;34m=\u001b[0m \u001b[0;36m1\u001b[0m\u001b[0;34m)\u001b[0m\u001b[0;34m\u001b[0m\u001b[0;34m\u001b[0m\u001b[0m\n\u001b[0m\u001b[1;32m     38\u001b[0m         \u001b[0mfuture_pos\u001b[0m \u001b[0;34m=\u001b[0m \u001b[0mfuture_df\u001b[0m\u001b[0;34m.\u001b[0m\u001b[0mapply\u001b[0m\u001b[0;34m(\u001b[0m\u001b[0mget_xyz\u001b[0m\u001b[0;34m)\u001b[0m\u001b[0;34m\u001b[0m\u001b[0;34m\u001b[0m\u001b[0m\n\u001b[1;32m     39\u001b[0m         \u001b[0mfuture_pos\u001b[0m \u001b[0;34m=\u001b[0m \u001b[0mfuture_pos\u001b[0m\u001b[0;34m[\u001b[0m\u001b[0mfuture_pos\u001b[0m\u001b[0;34m.\u001b[0m\u001b[0mapply\u001b[0m\u001b[0;34m(\u001b[0m\u001b[0;32mlambda\u001b[0m \u001b[0mx\u001b[0m\u001b[0;34m:\u001b[0m \u001b[0misinrange\u001b[0m\u001b[0;34m(\u001b[0m\u001b[0mx\u001b[0m\u001b[0;34m,\u001b[0m \u001b[0mlat_len\u001b[0m \u001b[0;34m=\u001b[0m \u001b[0my_max\u001b[0m\u001b[0;34m,\u001b[0m \u001b[0mlon_len\u001b[0m \u001b[0;34m=\u001b[0m \u001b[0mx_max\u001b[0m\u001b[0;34m,\u001b[0m \u001b[0malt_len\u001b[0m \u001b[0;34m=\u001b[0m \u001b[0;36m100\u001b[0m\u001b[0;34m)\u001b[0m\u001b[0;34m)\u001b[0m\u001b[0;34m]\u001b[0m\u001b[0;34m\u001b[0m\u001b[0;34m\u001b[0m\u001b[0m\n",
      "\u001b[0;31mTypeError\u001b[0m: (\"unsupported operand type(s) for +: 'float' and 'dict'\", 'occurred at index 0')"
     ]
    }
   ],
   "source": [
    "landed = False\n",
    "total_time = 0\n",
    "path = []\n",
    "while not landed:\n",
    "    path.append((df['x'], df['y'], df['z']))\n",
    "    ts1 = df['ts']\n",
    "#         print(ts1)\n",
    "    # We will not be able to know the complete duration of chosen aircraft before it actually lands\n",
    "    temp_flight_data = flight_data[(flight_data['id_start_ts'] <= ts1) &\n",
    "                                   (flight_data['id_end_ts'] >= ts1) &\n",
    "                                   (flight_data['id'] != chosen_id)]\n",
    "    last_known_df = temp_flight_data[temp_flight_data['ts'] <= ts1].reset_index(drop = True).groupby(['id']).last().reset_index(drop = False)\n",
    "    last_known_df = last_known_df[(last_known_df['altitude'] > 0) | (last_known_df['climb_rate'] != 0)].reset_index(drop = True)\n",
    "    current_df = last_known_df.apply(lambda x: get_current_pos(x, ts1), axis = 1)\n",
    "#         current_df = current_df[]\n",
    "    current_pos = current_df.apply(get_xyz)\n",
    "    current_pos = current_pos[current_pos.apply(lambda x: isinrange(x, lat_len = y_max, lon_len = x_max, alt_len = 100))]\n",
    "    conflict = True\n",
    "    tries = 0\n",
    "    # This should probably change to greedy selection\n",
    "    while conflict:\n",
    "        if total_time == 0:\n",
    "            actions = transitions1_start_xyz[(start_point, (df['x'], df['y'], df['z']))]\n",
    "            temp_delta_ts = delta_start_ts1[(start_point, (df['x'], df['y'], df['z']))]\n",
    "        else:\n",
    "            actions = transitions2_start_xyz[(start_point, previous_state, (df['x'], df['y'], df['z']))]\n",
    "            temp_delta_ts = delta_start_ts2[(start_point, previous_state, (df['x'], df['y'], df['z']))]\n",
    "#         next_xyzs = [repeat(key, actions[key]) for key in actions.keys()]\n",
    "#         next_xyzs = unlist(next_xyzs)\n",
    "#         j = random.randint(a = 0, b = len(next_xyzs) - 1)\n",
    "#         next_xyz = next_xyzs[j]\n",
    "#         all_delta_ts = temp_delta_ts[next_xyz]\n",
    "        # This should probably change to greedy selection\n",
    "#         j = random.randint(a = 0, b = len(all_delta_ts) - 1)\n",
    "#         temp_delta_ts = all_delta_ts[j]\n",
    "        next_xyz = sorted(actions.items(), key = lambda kv:(kv[1], kv[0]))\n",
    "        future_df = last_known_df.apply(lambda x: get_current_pos(x, ts1 + temp_delta_ts), axis = 1)\n",
    "        future_pos = future_df.apply(get_xyz)\n",
    "        future_pos = future_pos[future_pos.apply(lambda x: isinrange(x, lat_len = y_max, lon_len = x_max, alt_len = 100))]\n",
    "        conflict = any(future_pos.apply(lambda x: check_conflict(x, next_xyz[len(next_xyz) - 1])))\n",
    "        tries += 1\n",
    "        if tries > 10:\n",
    "            print(\"Conflict unlikely to be avoided at \" + str((df['x'], df['y'], df['z'])))\n",
    "            conflict = False\n",
    "            landed = True\n",
    "    \n",
    "    df['ts'] = df['ts'] + temp_delta_ts\n",
    "    previous_state = (df['x'], df['y'], df['z'])\n",
    "    total_time += temp_delta_ts\n",
    "    df['x'] = next_xyz[len(next_xyz) - 1][0]\n",
    "    df['y'] = next_xyz[len(next_xyz) - 1][1]\n",
    "    df['z'] = next_xyz[len(next_xyz) - 1][2]\n",
    "    print(next_xyz[len(next_xyz) - 1])\n",
    "\n",
    "    landed = (df['x'], df['y'], df['z']) in landed_xyz"
   ]
  },
  {
   "cell_type": "code",
   "execution_count": 34,
   "metadata": {},
   "outputs": [
    {
     "data": {
      "text/plain": [
       "[(((0, 13, 74), (42, 71, 8)), 1)]"
      ]
     },
     "execution_count": 34,
     "metadata": {},
     "output_type": "execute_result"
    }
   ],
   "source": [
    "next_xyz"
   ]
  },
  {
   "cell_type": "code",
   "execution_count": 20,
   "metadata": {},
   "outputs": [
    {
     "data": {
      "text/plain": [
       "[16.0]"
      ]
     },
     "execution_count": 20,
     "metadata": {},
     "output_type": "execute_result"
    }
   ],
   "source": [
    "all_delta_ts"
   ]
  },
  {
   "cell_type": "code",
   "execution_count": 32,
   "metadata": {},
   "outputs": [
    {
     "name": "stdout",
     "output_type": "stream",
     "text": [
      "          id aircraft      lat      lon          ts  altitude  climb_rate  \\\n",
      "17  780A15_0   780A15  40.8024 -73.4045  1560659864      4000           0   \n",
      "\n",
      "    azimuth  ground_speed  jfk_landing_flag  ...       last_ts last_x  last_y  \\\n",
      "17      302           210              True  ...  1.560660e+09   43.0    70.0   \n",
      "\n",
      "    last_z  last_lon  last_lat last_climb_rate  last_altitude  id_start_ts  \\\n",
      "17     8.0   -73.397   40.7988           -64.0         4000.0   1560657251   \n",
      "\n",
      "     id_end_ts  \n",
      "17  1560660439  \n",
      "\n",
      "[1 rows x 27 columns]\n"
     ]
    }
   ],
   "source": [
    "future_df = last_known_df.apply(lambda x: get_current_pos(x, ts1 + temp_delta_ts), axis = 1)\n",
    "future_pos = future_df.apply(get_xyz)\n",
    "subset = future_pos.apply(lambda x: isinrange(x, lat_len = y_max, lon_len = x_max, alt_len = 100))\n",
    "last_known_df = last_known_df[subset]\n",
    "future_pos = future_pos[subset]\n",
    "future_df = future_df[subset]\n",
    "conflict = future_pos.apply(lambda x: check_conflict(x, next_xyz[len(next_xyz) - 1]))\n",
    "# print(conflict.shape)\n",
    "# print(last_known_df[conflict])\n",
    "print(last_known_df[conflict])"
   ]
  },
  {
   "cell_type": "code",
   "execution_count": null,
   "metadata": {},
   "outputs": [],
   "source": [
    "next_xyzs = [repeat(key, actions[key]) for key in actions.keys()]"
   ]
  },
  {
   "cell_type": "code",
   "execution_count": null,
   "metadata": {},
   "outputs": [],
   "source": [
    "next_xyzs"
   ]
  },
  {
   "cell_type": "code",
   "execution_count": null,
   "metadata": {},
   "outputs": [],
   "source": [
    "future_pos[future_pos.apply(lambda x: check_conflict(x, next_xyz[len(next_xyz) - 1]))]"
   ]
  },
  {
   "cell_type": "code",
   "execution_count": null,
   "metadata": {},
   "outputs": [],
   "source": [
    "# import matplotlib.pyplot as plt\n",
    "# from mpl_toolkits.mplot3d import Axes3D\n",
    "# times = []\n",
    "# for i in range(len(pool_results)):\n",
    "#     res = pool_results[i]\n",
    "#     path = res[0]\n",
    "#     time = res[1]\n",
    "#     times.append(time)\n",
    "#     mat = np.zeros((101, 101, 101))\n",
    "#     for coord in path:\n",
    "#         mat[coord[0], coord[1], coord[2]] += 1\n",
    "\n",
    "#     fig = plt.figure()\n",
    "#     ax = fig.add_subplot(111, projection='3d')\n",
    "#     pos = np.where(mat > 0)\n",
    "#     ax.scatter(pos[0], pos[1], pos[2], c='black')\n",
    "#     plt.show()"
   ]
  },
  {
   "cell_type": "code",
   "execution_count": null,
   "metadata": {},
   "outputs": [],
   "source": [
    "# times"
   ]
  },
  {
   "cell_type": "code",
   "execution_count": null,
   "metadata": {},
   "outputs": [],
   "source": []
  }
 ],
 "metadata": {
  "kernelspec": {
   "display_name": "Python [conda env:tf_gpu] *",
   "language": "python",
   "name": "conda-env-tf_gpu-py"
  },
  "language_info": {
   "codemirror_mode": {
    "name": "ipython",
    "version": 3
   },
   "file_extension": ".py",
   "mimetype": "text/x-python",
   "name": "python",
   "nbconvert_exporter": "python",
   "pygments_lexer": "ipython3",
   "version": "3.6.9"
  }
 },
 "nbformat": 4,
 "nbformat_minor": 1
}
